{
 "cells": [
  {
   "cell_type": "code",
   "execution_count": 2,
   "metadata": {},
   "outputs": [],
   "source": [
    "import pandas as pd\n",
    "import numpy as np\n",
    "# import hdbscan\n",
    "import sklearn\n",
    "from matplotlib import pyplot as plt\n",
    "from matplotlib import cm"
   ]
  },
  {
   "cell_type": "code",
   "execution_count": 3,
   "metadata": {},
   "outputs": [],
   "source": [
    "from astropy.io import fits"
   ]
  },
  {
   "cell_type": "code",
   "execution_count": 4,
   "metadata": {},
   "outputs": [],
   "source": [
    "hdul = fits.open('http://gal-03.sai.msu.ru/~vtoptun/redshift/rcsed_v2.fits')"
   ]
  },
  {
   "cell_type": "code",
   "execution_count": 5,
   "metadata": {},
   "outputs": [],
   "source": [
    "hdr0 = hdul[0].header"
   ]
  },
  {
   "cell_type": "code",
   "execution_count": 6,
   "metadata": {},
   "outputs": [],
   "source": [
    "hdr1 = hdul[1].header"
   ]
  },
  {
   "cell_type": "code",
   "execution_count": 7,
   "metadata": {},
   "outputs": [],
   "source": [
    "data = hdul[1].data"
   ]
  },
  {
   "cell_type": "code",
   "execution_count": 8,
   "metadata": {},
   "outputs": [],
   "source": [
    "DATA = pd.DataFrame(np.array(data).byteswap().newbyteorder())"
   ]
  },
  {
   "cell_type": "code",
   "execution_count": 9,
   "metadata": {},
   "outputs": [
    {
     "data": {
      "text/html": [
       "<div>\n",
       "<style scoped>\n",
       "    .dataframe tbody tr th:only-of-type {\n",
       "        vertical-align: middle;\n",
       "    }\n",
       "\n",
       "    .dataframe tbody tr th {\n",
       "        vertical-align: top;\n",
       "    }\n",
       "\n",
       "    .dataframe thead th {\n",
       "        text-align: right;\n",
       "    }\n",
       "</style>\n",
       "<table border=\"1\" class=\"dataframe\">\n",
       "  <thead>\n",
       "    <tr style=\"text-align: right;\">\n",
       "      <th></th>\n",
       "      <th>ra</th>\n",
       "      <th>dec</th>\n",
       "      <th>z_sdss</th>\n",
       "      <th>zerr_sdss</th>\n",
       "      <th>specObjID_sdss</th>\n",
       "      <th>bestObjID_sdss</th>\n",
       "      <th>plate_sdss</th>\n",
       "      <th>mjd_sdss</th>\n",
       "      <th>fiberID_sdss</th>\n",
       "      <th>z_2df</th>\n",
       "      <th>...</th>\n",
       "      <th>z_wigglez</th>\n",
       "      <th>Q_wigglez</th>\n",
       "      <th>SpecFile_wigglez</th>\n",
       "      <th>Z_gama</th>\n",
       "      <th>NQ_gama</th>\n",
       "      <th>SPECID_gama</th>\n",
       "      <th>GroupID</th>\n",
       "      <th>GroupSize</th>\n",
       "      <th>multiple_z</th>\n",
       "      <th>dz</th>\n",
       "    </tr>\n",
       "  </thead>\n",
       "  <tbody>\n",
       "    <tr>\n",
       "      <th>0</th>\n",
       "      <td>0.000019</td>\n",
       "      <td>-4.760800</td>\n",
       "      <td>2.467120</td>\n",
       "      <td>0.002194</td>\n",
       "      <td>7.919679e+18</td>\n",
       "      <td>0</td>\n",
       "      <td>7034</td>\n",
       "      <td>56564</td>\n",
       "      <td>360</td>\n",
       "      <td>NaN</td>\n",
       "      <td>...</td>\n",
       "      <td>NaN</td>\n",
       "      <td>-32768</td>\n",
       "      <td>b'              '</td>\n",
       "      <td>NaN</td>\n",
       "      <td>-32768</td>\n",
       "      <td>b'                                 '</td>\n",
       "      <td>-2147483648</td>\n",
       "      <td>-2147483648</td>\n",
       "      <td>70</td>\n",
       "      <td>70</td>\n",
       "    </tr>\n",
       "    <tr>\n",
       "      <th>1</th>\n",
       "      <td>0.000067</td>\n",
       "      <td>-26.058128</td>\n",
       "      <td>NaN</td>\n",
       "      <td>NaN</td>\n",
       "      <td>NaN</td>\n",
       "      <td>-9223372036854775808</td>\n",
       "      <td>-32768</td>\n",
       "      <td>-2147483648</td>\n",
       "      <td>-32768</td>\n",
       "      <td>0.11854</td>\n",
       "      <td>...</td>\n",
       "      <td>NaN</td>\n",
       "      <td>-32768</td>\n",
       "      <td>b'              '</td>\n",
       "      <td>NaN</td>\n",
       "      <td>-32768</td>\n",
       "      <td>b'                                 '</td>\n",
       "      <td>-2147483648</td>\n",
       "      <td>-2147483648</td>\n",
       "      <td>70</td>\n",
       "      <td>70</td>\n",
       "    </tr>\n",
       "    <tr>\n",
       "      <th>2</th>\n",
       "      <td>0.000091</td>\n",
       "      <td>24.902252</td>\n",
       "      <td>0.555936</td>\n",
       "      <td>0.000245</td>\n",
       "      <td>7.333218e+18</td>\n",
       "      <td>1237666309095751941</td>\n",
       "      <td>6513</td>\n",
       "      <td>56543</td>\n",
       "      <td>843</td>\n",
       "      <td>NaN</td>\n",
       "      <td>...</td>\n",
       "      <td>NaN</td>\n",
       "      <td>-32768</td>\n",
       "      <td>b'              '</td>\n",
       "      <td>NaN</td>\n",
       "      <td>-32768</td>\n",
       "      <td>b'                                 '</td>\n",
       "      <td>-2147483648</td>\n",
       "      <td>-2147483648</td>\n",
       "      <td>70</td>\n",
       "      <td>70</td>\n",
       "    </tr>\n",
       "    <tr>\n",
       "      <th>3</th>\n",
       "      <td>0.000346</td>\n",
       "      <td>-6.491940</td>\n",
       "      <td>0.514177</td>\n",
       "      <td>0.000130</td>\n",
       "      <td>8.047035e+18</td>\n",
       "      <td>1237680243597902184</td>\n",
       "      <td>7147</td>\n",
       "      <td>56574</td>\n",
       "      <td>831</td>\n",
       "      <td>NaN</td>\n",
       "      <td>...</td>\n",
       "      <td>NaN</td>\n",
       "      <td>-32768</td>\n",
       "      <td>b'              '</td>\n",
       "      <td>NaN</td>\n",
       "      <td>-32768</td>\n",
       "      <td>b'                                 '</td>\n",
       "      <td>-2147483648</td>\n",
       "      <td>-2147483648</td>\n",
       "      <td>70</td>\n",
       "      <td>70</td>\n",
       "    </tr>\n",
       "    <tr>\n",
       "      <th>4</th>\n",
       "      <td>0.000446</td>\n",
       "      <td>-33.323280</td>\n",
       "      <td>NaN</td>\n",
       "      <td>NaN</td>\n",
       "      <td>NaN</td>\n",
       "      <td>-9223372036854775808</td>\n",
       "      <td>-32768</td>\n",
       "      <td>-2147483648</td>\n",
       "      <td>-32768</td>\n",
       "      <td>0.27531</td>\n",
       "      <td>...</td>\n",
       "      <td>NaN</td>\n",
       "      <td>-32768</td>\n",
       "      <td>b'              '</td>\n",
       "      <td>NaN</td>\n",
       "      <td>-32768</td>\n",
       "      <td>b'                                 '</td>\n",
       "      <td>-2147483648</td>\n",
       "      <td>-2147483648</td>\n",
       "      <td>70</td>\n",
       "      <td>70</td>\n",
       "    </tr>\n",
       "  </tbody>\n",
       "</table>\n",
       "<p>5 rows × 48 columns</p>\n",
       "</div>"
      ],
      "text/plain": [
       "         ra        dec    z_sdss  zerr_sdss  specObjID_sdss  \\\n",
       "0  0.000019  -4.760800  2.467120   0.002194    7.919679e+18   \n",
       "1  0.000067 -26.058128       NaN        NaN             NaN   \n",
       "2  0.000091  24.902252  0.555936   0.000245    7.333218e+18   \n",
       "3  0.000346  -6.491940  0.514177   0.000130    8.047035e+18   \n",
       "4  0.000446 -33.323280       NaN        NaN             NaN   \n",
       "\n",
       "        bestObjID_sdss  plate_sdss    mjd_sdss  fiberID_sdss    z_2df  ...  \\\n",
       "0                    0        7034       56564           360      NaN  ...   \n",
       "1 -9223372036854775808      -32768 -2147483648        -32768  0.11854  ...   \n",
       "2  1237666309095751941        6513       56543           843      NaN  ...   \n",
       "3  1237680243597902184        7147       56574           831      NaN  ...   \n",
       "4 -9223372036854775808      -32768 -2147483648        -32768  0.27531  ...   \n",
       "\n",
       "   z_wigglez Q_wigglez   SpecFile_wigglez  Z_gama NQ_gama  \\\n",
       "0        NaN    -32768  b'              '     NaN  -32768   \n",
       "1        NaN    -32768  b'              '     NaN  -32768   \n",
       "2        NaN    -32768  b'              '     NaN  -32768   \n",
       "3        NaN    -32768  b'              '     NaN  -32768   \n",
       "4        NaN    -32768  b'              '     NaN  -32768   \n",
       "\n",
       "                            SPECID_gama     GroupID   GroupSize  multiple_z  \\\n",
       "0  b'                                 ' -2147483648 -2147483648          70   \n",
       "1  b'                                 ' -2147483648 -2147483648          70   \n",
       "2  b'                                 ' -2147483648 -2147483648          70   \n",
       "3  b'                                 ' -2147483648 -2147483648          70   \n",
       "4  b'                                 ' -2147483648 -2147483648          70   \n",
       "\n",
       "   dz  \n",
       "0  70  \n",
       "1  70  \n",
       "2  70  \n",
       "3  70  \n",
       "4  70  \n",
       "\n",
       "[5 rows x 48 columns]"
      ]
     },
     "execution_count": 9,
     "metadata": {},
     "output_type": "execute_result"
    }
   ],
   "source": [
    "DATA.head()"
   ]
  },
  {
   "cell_type": "code",
   "execution_count": 10,
   "metadata": {},
   "outputs": [],
   "source": [
    "glist = pd.read_csv('result_glist_s.csv')"
   ]
  },
  {
   "cell_type": "code",
   "execution_count": 11,
   "metadata": {},
   "outputs": [],
   "source": [
    "glist.drop(glist.columns[0], axis='columns', inplace=True)"
   ]
  },
  {
   "cell_type": "code",
   "execution_count": 13,
   "metadata": {},
   "outputs": [
    {
     "data": {
      "text/plain": [
       "Index(['iGalID', 'iGrID', 'Name', 'RAJ2000_gal', 'DEJ2000_gal', 'z_gal',\n",
       "       'logMstar_gal', 'Dist_gal', 'RAJ2000_group', 'DEJ2000_group', 'z_group',\n",
       "       'logLtot', 'logLobs', 'logMtot', 'logMstar_group', 'NMstar', 'logMdyn',\n",
       "       'sigma', 'Rad', 'angRad', 'DL', 'Ntot', 'Dist_group', 'e_logLtot',\n",
       "       'e_logMtot'],\n",
       "      dtype='object')"
      ]
     },
     "execution_count": 13,
     "metadata": {},
     "output_type": "execute_result"
    }
   ],
   "source": [
    "glist.columns"
   ]
  },
  {
   "cell_type": "code",
   "execution_count": 14,
   "metadata": {},
   "outputs": [],
   "source": [
    "# index_list = DATA[DATA['z_sdss'].isna()==False].index"
   ]
  },
  {
   "cell_type": "code",
   "execution_count": 15,
   "metadata": {},
   "outputs": [],
   "source": [
    "# index_list"
   ]
  },
  {
   "cell_type": "code",
   "execution_count": 16,
   "metadata": {},
   "outputs": [],
   "source": [
    "import joblib\n",
    "from joblib import Parallel, delayed"
   ]
  },
  {
   "cell_type": "code",
   "execution_count": null,
   "metadata": {},
   "outputs": [],
   "source": [
    "from time import process_time \n",
    "\n",
    "# Start the stopwatch / counter  \n",
    "t1_start = process_time()\n",
    "\n",
    "coincedence = []\n",
    "\n",
    "# table[index, ra, dec]\n",
    "\n",
    "table_glist = (glist[['RAJ2000_gal', 'DEJ2000_gal']].sort_values(by='RAJ2000_gal').reset_index()).to_numpy()\n",
    "table_rcsed = (DATA[DATA['z_sdss'].isna()==False][['ra', 'dec']].sort_values(by='ra').reset_index()).to_numpy()\n",
    "\n",
    "def sieve(table_rcsed, i, table_glist):\n",
    "#     pair = []#{}\n",
    "    delta = 3/3600\n",
    "    \n",
    "    if i <= int(len(table_glist)/2):\n",
    "        j=0\n",
    "        while table_rcsed[j, 1] <= table_glist[i, 1] + delta and j < len(table_rcsed):\n",
    "            if table_glist[i, 1] - delta <= table_rcsed[j, 1]:\n",
    "                if table_glist[i, 2] - delta <= table_rcsed[j, 2] <= table_glist[i, 2] + delta:\n",
    "#                     pair.setdefault(int(table_glist[i,0]),int(table_rcsed[j,0]))\n",
    "                    pair = [int(table_glist[i,0]),int(table_rcsed[j,0])]\n",
    "                    table_rcsed = np.delete(table_rcsed, j, 0)\n",
    "                    return pair\n",
    "                    break\n",
    "                else:\n",
    "                    j += 1\n",
    "            else:\n",
    "                j += 1\n",
    "    else:\n",
    "        j = len(table_rcsed)-1\n",
    "        while table_rcsed[j, 1] >= table_glist[i, 1] - delta and j >= 0 :\n",
    "            if table_glist[i, 1] + delta >= table_rcsed[j, 1]:\n",
    "                if table_glist[i, 2] - delta <= table_rcsed[j, 2] <= table_glist[i, 2] + delta:\n",
    "#                     pair.setdefault(int(table_glist[i,0]),int(table_rcsed[j,0]))\n",
    "                    pair = [int(table_glist[i,0]),int(table_rcsed[j,0])]\n",
    "                    table_rcsed = np.delete(table_rcsed, j, 0)\n",
    "                    return pair\n",
    "                    break\n",
    "                else:\n",
    "                    j -= 1\n",
    "            else:\n",
    "                j -= 1\n",
    "\n",
    "\n",
    "coincedence.extend(Parallel(n_jobs=2)(delayed(sieve)(table_rcsed, i, table_glist) for i in range(len(table_glist))))\n",
    "new_coincedence = [x for x in coincedence if x != None]\n",
    "\n",
    "with open(\"new_coincedence_1.txt\", \"w\") as output:\n",
    "    output.write(str(new_coincedence))   \n",
    "    \n",
    "t1_stop = process_time() \n",
    "   \n",
    "print(\"Elapsed time during the whole program in seconds:\", \n",
    "                                         t1_stop-t1_start) "
   ]
  },
  {
   "cell_type": "code",
   "execution_count": null,
   "metadata": {},
   "outputs": [],
   "source": [
    "# new_coincedence"
   ]
  }
 ],
 "metadata": {
  "kernelspec": {
   "display_name": "Python 3",
   "language": "python",
   "name": "python3"
  },
  "language_info": {
   "codemirror_mode": {
    "name": "ipython",
    "version": 3
   },
   "file_extension": ".py",
   "mimetype": "text/x-python",
   "name": "python",
   "nbconvert_exporter": "python",
   "pygments_lexer": "ipython3",
   "version": "3.5.2"
  }
 },
 "nbformat": 4,
 "nbformat_minor": 4
}
