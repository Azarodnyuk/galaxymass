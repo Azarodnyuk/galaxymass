{
 "cells": [
  {
   "cell_type": "markdown",
   "metadata": {},
   "source": [
    " У нас имеются таблицы с данными каталогов:\n",
    "- SDSS (glist_s), \n",
    "- 2MRS (glist_2).\n",
    " \n",
    "SDSS - Sloan Digital Sky Survey с англ. — «Слоуновский цифровой небесный обзор») — проект широкомасштабного исследования многоспектральных изображений и спектров красного смещения звёзд и галактик при помощи 2,5-метрового широкоугольного телескопа в обсерватории Апачи-Пойнт в штате Нью-Мексико. Проект назван в честь фонда Альфреда Слоуна.\n",
    "\n",
    "Исследования начались в 2000 году, в ходе работы проекта было проведено картографирование более 35 % небесной сферы с фотометрическими наблюдениями порядка 500 миллионов объектов и получением спектров более чем для 3 миллионов объектов. Среднее значение красного смещения по изображениям галактик составило 0.1; для ярких красных галактик вплоть до z=0,4, для квазаров до z=5. Наблюдения в рамках обзора способствовали обнаружению квазаров со сдвигом более 6.\n",
    "\n",
    "Проект делится на несколько фаз: SDSS-I (2000—2005), SDSS-II (2005—2008), SDSS-III (2008—2014), SDSS-IV (2014—2020). Собранные в ходе обзоров данные публикуются в виде отдельных релизов (Data Release), последний из них, DR13 опубликован в августе 2016 года.\n",
    "\n",
    "2MASS Redshift Survey -  aims to map the distribution of galaxies and dark matter in the local universe, out to a mean redshift of z = 0.03 (roughly equivalent to 115 Mpc or 370 million light-years). It is based on galaxy selection in the near infra-red from the Two Micron All-Sky Survey (2MASS). 2MASS has now mapped all of the sky in the near infra-red J, H and K-bands. This photometric survey is complete and fully available to the public (IRSA). The 2MASS extended source catalog (XSC) includes roughly half a million galaxies to a limiting K magnitude of K=13.5 mag. 2MRS ultimately aims to determine the redshifts of all galaxies in the XSC to a magnitude of K=12.2 mag (about 100,000 galaxies) and to within 5 deg of the Galactic plane. The second phase of 2MRS is now complete, providing an all-sky survey of 45,000 galaxies with redshifts to a limiting magnitude of K=11.75 mag. It is the densest sampled all-sky redshift survey to date and its selection in the near infra-red reduces the impact of the zone of avoidance (where the plane of our own Galaxy obscures extragalactic objects). 2MRS provides complementary redshift information to deeper surveys like SDSS and the 2dFRGS which cover much smaller fractions of the sky. It improves on the IRAS redshift survey IRAS PSCz which was not able to distinguish galaxies in regions of high density (ie. clusters)."
   ]
  },
  {
   "cell_type": "code",
   "execution_count": 532,
   "metadata": {},
   "outputs": [],
   "source": [
    "import pandas as pd\n",
    "import numpy as np\n",
    "from matplotlib import pyplot as plt"
   ]
  },
  {
   "cell_type": "code",
   "execution_count": 533,
   "metadata": {},
   "outputs": [],
   "source": [
    "data = pd.read_csv('glist_2.csv')"
   ]
  },
  {
   "cell_type": "code",
   "execution_count": 534,
   "metadata": {},
   "outputs": [
    {
     "name": "stdout",
     "output_type": "stream",
     "text": [
      "<class 'pandas.core.frame.DataFrame'>\n",
      "RangeIndex: 1200 entries, 0 to 1199\n",
      "Data columns (total 21 columns):\n",
      "iGalID            1200 non-null int64\n",
      "iGrID             1200 non-null int64\n",
      "Name              1200 non-null object\n",
      "RAJ2000_gal       1200 non-null float64\n",
      "DEJ2000_gal       1200 non-null float64\n",
      "z_gal             1200 non-null float64\n",
      "logMstar_gal      425 non-null float64\n",
      "RAJ2000_group     1200 non-null float64\n",
      "DEJ2000_group     1200 non-null float64\n",
      "z_group           1200 non-null float64\n",
      "logLtot           1200 non-null float64\n",
      "logLobs           1200 non-null float64\n",
      "logMtot           1200 non-null float64\n",
      "logMstar_group    1165 non-null float64\n",
      "NMstar            1200 non-null int64\n",
      "logMdyn           1200 non-null float64\n",
      "sigma             1200 non-null float64\n",
      "Rad               1200 non-null float64\n",
      "angRad            1200 non-null float64\n",
      "DL                1200 non-null float64\n",
      "Ntot              1200 non-null int64\n",
      "dtypes: float64(16), int64(4), object(1)\n",
      "memory usage: 197.0+ KB\n"
     ]
    }
   ],
   "source": [
    "data.info()"
   ]
  },
  {
   "cell_type": "code",
   "execution_count": 535,
   "metadata": {},
   "outputs": [
    {
     "data": {
      "image/png": "[encoded data removed]",
      "text/plain": [
       "<IPython.core.display.Image object>"
      ]
     },
     "execution_count": 535,
     "metadata": {},
     "output_type": "execute_result"
    }
   ],
   "source": [
    "from IPython.display import Image \n",
    "Image(\"projections.png\") "
   ]
  },
  {
   "cell_type": "markdown",
   "metadata": {},
   "source": [
    "В астрофизике принято рассматривать небесные объекты в проекции на небесную сферу.    \n",
    "\n",
    "Предполагается, что наблюдатель располагается в вершине угла $a$.\n",
    "на рисунке обозначено:\n",
    "\n",
    "$O$ - центр некоторого скопления,\n",
    "\n",
    "$A_0$ - некоторая галактика из скопления,\n",
    "\n",
    "$r_0$ - вектор, соединяющий глаз наблюдателя и центр скопления $O$,\n",
    "\n",
    "$r_1$ - вектор, соединяющий глаз наблюдателя и объект $A_0$,\n",
    "\n",
    "$P$ - плоскость построенная таким образом, что она перпендикулярна вектору   $r_0$ и проходит через центр скопления $O$,\n",
    "\n",
    "$A$ - точка пересечения луча, идущего из глаза наблюдателя через объект $А_0$ с плоскостью $P$,\n",
    "\n",
    "$H$ - перпендикуляр, опущенный из из  $A_0$ на плоскость $H$,\n",
    "\n",
    "$a$ - линейный угол между векторами $r_0$ и $r_1$,\n",
    "\n",
    "красные отрезки $OA(OH)$ -  проекции на плоскость Р.\n",
    "\n",
    "###### Так как наблюдения проводятся из одной точки, то интересующая нас проекция - центральная. "
   ]
  },
  {
   "cell_type": "markdown",
   "metadata": {},
   "source": [
    "Поскольку данные об углах  right ascention (RAJ2000) и declination (DEJ2000) указаны в градусах, а вычислениях мы будем пользоваться радианами, то с помощью формулы перейдем от одних единиц измерения к другим:\n",
    "\n",
    "\\begin{equation}\n",
    "\\alpha_{rad} = \\pi \\frac{\\alpha_{grad}}{180}\n",
    "\\end{equation}"
   ]
  },
  {
   "cell_type": "code",
   "execution_count": 536,
   "metadata": {},
   "outputs": [],
   "source": [
    "# data['RAJ2000_gal_rad'] = np.pi*data['RAJ2000_gal']/180\n",
    "# data['DEJ2000_gal_rad'] = np.pi*data['DEJ2000_gal']/180\n",
    "# data['RAJ2000_group_rad'] = np.pi*data['RAJ2000_group']/180\n",
    "# data['DEJ2000_group_rad'] = np.pi*data['DEJ2000_group']/180"
   ]
  },
  {
   "cell_type": "markdown",
   "metadata": {},
   "source": [
    "Через данные об углах наклонения (DEC=DEJ2000) и вознесения (RA=RAJ2000) вычисляются координаты соответствующего объекта на единичной сфере:\n",
    "\n",
    " \\begin{equation}\n",
    "\\left\\{ \\begin{array}{ll}\n",
    "    x = \\cos(DEC)\\cos(RA) \\\\\n",
    "    y = \\cos(DEC)\\sin(RA)\\\\\n",
    "    z = \\sin(DEC)\n",
    "\\end{array} \\right.\n",
    "\\end{equation}"
   ]
  },
  {
   "cell_type": "markdown",
   "metadata": {},
   "source": [
    "Далее необходимо вычислить длинну проекции $OA$  для каждой галактики из соответствующего скопления по всем скоплениям с помощью формулы: \n",
    "\n",
    "\\begin{equation}\n",
    "     r_{pr} = r_0 \\tan(a),\n",
    "\\end{equation}"
   ]
  },
  {
   "cell_type": "markdown",
   "metadata": {},
   "source": [
    "где угол $а$ - линейный угол между лучами, соединяющими наблюдателя с галактикой в скоплении и наблюдателя с центром скопления. Зная углы наклонения (DEC=DEJ2000) и вознесения (RA=RAJ2000), можно вычислить тангенс угла $а$:\n",
    "\n",
    " \\begin{equation}\n",
    "\\left\\{ \\begin{array}{ll}\n",
    "    x = \\cos(DEC)\\cos(RA) \\\\\n",
    "    y = \\cos(DEC)\\sin(RA)\\\\\n",
    "    z = \\sin(DEC)\n",
    "\\end{array} \\right.\n",
    "\\end{equation}\n",
    "\n",
    "\\begin{equation}\n",
    "\\cos(a) = x_{centr}x_{gal} + y_{centr}y_{gal}+z_{centr}z_{gal}\n",
    "\\end{equation}\n",
    "\n",
    "\\begin{equation}\n",
    "\\tan(a) = \\frac{\\sqrt{1-\\cos^2(a)}}{\\cos(a)}\n",
    "\\end{equation}"
   ]
  },
  {
   "cell_type": "markdown",
   "metadata": {},
   "source": [
    "Введем используемые в дальнейшем исследовании космологические постоянные:"
   ]
  },
  {
   "cell_type": "code",
   "execution_count": 537,
   "metadata": {},
   "outputs": [],
   "source": [
    "C = 300000  # km/s -  скорость света в вакууме\n",
    "Mpc = 3.086e+19 # km -  мегапарсек"
   ]
  },
  {
   "cell_type": "code",
   "execution_count": 538,
   "metadata": {},
   "outputs": [],
   "source": [
    "# x0 = np.cos(data['DEJ2000_group_rad'])*np.cos(data['RAJ2000_group_rad'])\n",
    "# y0 = np.cos(data['DEJ2000_group_rad'])*np.sin(data['RAJ2000_group_rad'])\n",
    "# z0 = np.sin(data['DEJ2000_group_rad'])\n",
    "\n",
    "# x1 = np.cos(data['DEJ2000_gal_rad'])*np.cos(data['RAJ2000_gal_rad'])\n",
    "# y1 = np.cos(data['DEJ2000_gal_rad'])*np.sin(data['RAJ2000_gal_rad'])\n",
    "# z1 = np.sin(data['DEJ2000_gal_rad'])\n",
    "\n",
    "# cos_a = x0*x1+y0*y1+z0*z1\n",
    "\n",
    "# tan_a = pd.Series(np.sqrt(1-cos_a**2)/cos_a).fillna(0)"
   ]
  },
  {
   "cell_type": "code",
   "execution_count": 539,
   "metadata": {},
   "outputs": [],
   "source": [
    "# data['r_pr'] = data['DL']*tan_a"
   ]
  },
  {
   "cell_type": "markdown",
   "metadata": {},
   "source": [
    "Скорости галактик в скоплении относительно центра этого скопления высчитывались с помощью формулы: \n",
    "\n",
    "\\begin{equation}\n",
    "    v = c\\frac{z_{gal} - z_{cent}}{1 + z_{cent}}\n",
    "\\end{equation}\n",
    "\n",
    "Отметим, что все эти скорости могут вычислены только вдоль луча зрения (line-of-sight) на основании измерений красного смещения (red shift)  $z$ рассматриваемого объекта. Поперечные скорости определить сложно, так как время съемки телескопом данного участка неба по сравнению с перемещением объекта по небесной сфере ничтожно мало, а потому увидеть какие-то видимые измения в положении объекта на небе пока не представляется возможным."
   ]
  },
  {
   "cell_type": "code",
   "execution_count": 540,
   "metadata": {},
   "outputs": [],
   "source": [
    "# data['v'] = C*(data['z_gal']-data['z_group'])/(1+data['z_group'])"
   ]
  },
  {
   "cell_type": "code",
   "execution_count": 541,
   "metadata": {},
   "outputs": [],
   "source": [
    "# data.info()"
   ]
  },
  {
   "cell_type": "code",
   "execution_count": 542,
   "metadata": {},
   "outputs": [],
   "source": [
    "# def drawPlot(data, GrID, ax, c):\n",
    "#     x_max = data['r_pr'].max()\n",
    "#     y_max = abs(data['v']).max()\n",
    "#     gr = data[data['iGrID'] == GrID] \n",
    "#     x = gr['r_pr']\n",
    "#     y = gr['v'] \n",
    "#     ax.scatter(x, y, c=c, marker='*')\n",
    "#     ax.set_xlabel('Distance from center of the cluster, [Mpc]')\n",
    "#     ax.set_ylabel('Relative velocity in the cluster, [km/s]')\n",
    "#     ax.set_title('iGrID = %d' % (GrID))\n",
    "#     ax.set_ylim(top=y_max, bottom=-y_max)\n",
    "#     ax.set_xlim((0,x_max))\n",
    "#     ax.grid(True)"
   ]
  },
  {
   "cell_type": "code",
   "execution_count": 543,
   "metadata": {},
   "outputs": [],
   "source": [
    "# fig, axs = plt.subplots(7, 3, figsize=(15,25))\n",
    "# GrIDs = data['iGrID'].unique() #Создаём вектор всех групп\n",
    "# for i in range(21):\n",
    "#     drawPlot(data, GrIDs[i], axs[i//3, i%3], 'blue') #Для каждой группы вызываем функцию и передаём ей нужный 'подграфик'\n",
    "# plt.tight_layout()"
   ]
  },
  {
   "cell_type": "markdown",
   "metadata": {},
   "source": [
    "Далее воспользуемся программой 'Caustic mass estimator for astrophysical systems', взятой с репозитория  Dan Gifford на GitHub http://github.com/giffordw . Данная программа позволяет на основе данных об углах   RA, DEC и красного смещения z строить каустические кривые для скоплений галактик. Программный код основывается на методах, описанных в статьях:\n",
    "- A.Diafferio. Mass estimation in the outer regions of galaxy clusters. 1999.\n",
    "- Gifford et al. A Systematic Analysis of Caustic Methods for Galaxy Cluster Masses. 2013.\n",
    "- Gifford & Miller. Velocity Anisotropy and Shape Bias in the Caustic Technique. 2013."
   ]
  },
  {
   "cell_type": "markdown",
   "metadata": {},
   "source": [
    "Каустики - это некие кривые в фазовой плоскости (r,v), которые разделяют эту плоскость на несколько сегметов: центральный, нижний и верхний. Из взаимного положения галактик в коплении и соответствующих каустик на фазовой плоскости можно судить о будующем этого скопления. Например, если галактики лежат вне центральной области, ограниченной каустиками, то можно заключить, что данная галактика в будущем покинет это скопление."
   ]
  },
  {
   "cell_type": "code",
   "execution_count": 544,
   "metadata": {},
   "outputs": [],
   "source": [
    "# !pip install cosmolopy"
   ]
  },
  {
   "cell_type": "code",
   "execution_count": 545,
   "metadata": {},
   "outputs": [],
   "source": [
    "# !pip install scikit-image"
   ]
  },
  {
   "cell_type": "code",
   "execution_count": 546,
   "metadata": {},
   "outputs": [],
   "source": [
    "from causticpy import *"
   ]
  },
  {
   "cell_type": "code",
   "execution_count": 547,
   "metadata": {},
   "outputs": [],
   "source": [
    "iGrID = data['iGrID'].unique()[0:1]"
   ]
  },
  {
   "cell_type": "code",
   "execution_count": 548,
   "metadata": {},
   "outputs": [
    {
     "data": {
      "text/plain": [
       "Index(['iGalID', 'iGrID', 'Name', 'RAJ2000_gal', 'DEJ2000_gal', 'z_gal',\n",
       "       'logMstar_gal', 'RAJ2000_group', 'DEJ2000_group', 'z_group', 'logLtot',\n",
       "       'logLobs', 'logMtot', 'logMstar_group', 'NMstar', 'logMdyn', 'sigma',\n",
       "       'Rad', 'angRad', 'DL', 'Ntot'],\n",
       "      dtype='object')"
      ]
     },
     "execution_count": 548,
     "metadata": {},
     "output_type": "execute_result"
    }
   ],
   "source": [
    "data.columns"
   ]
  },
  {
   "cell_type": "code",
   "execution_count": 549,
   "metadata": {},
   "outputs": [],
   "source": [
    "new = (data[data['iGrID'].isin(iGrID)][['RAJ2000_gal', 'DEJ2000_gal', 'z_gal', \n",
    "                                          'RAJ2000_group', 'DEJ2000_group', 'z_group', 'iGrID', 'DL']])"
   ]
  },
  {
   "cell_type": "code",
   "execution_count": 550,
   "metadata": {},
   "outputs": [],
   "source": [
    "# new"
   ]
  },
  {
   "cell_type": "code",
   "execution_count": 551,
   "metadata": {},
   "outputs": [],
   "source": [
    "new['z_group'] = new.loc[10,'z_gal']\n",
    "new['RAJ2000_group'] = new.loc[10,'RAJ2000_gal'] \n",
    "new['DEJ2000_group'] = new.loc[10,'DEJ2000_gal'] "
   ]
  },
  {
   "cell_type": "code",
   "execution_count": 552,
   "metadata": {},
   "outputs": [],
   "source": [
    "# new"
   ]
  },
  {
   "cell_type": "code",
   "execution_count": 553,
   "metadata": {},
   "outputs": [],
   "source": [
    "data = new"
   ]
  },
  {
   "cell_type": "code",
   "execution_count": 554,
   "metadata": {},
   "outputs": [],
   "source": [
    "data['RAJ2000_gal_rad'] = np.pi*data['RAJ2000_gal']/180\n",
    "data['DEJ2000_gal_rad'] = np.pi*data['DEJ2000_gal']/180\n",
    "data['RAJ2000_group_rad'] = np.pi*data['RAJ2000_group']/180\n",
    "data['DEJ2000_group_rad'] = np.pi*data['DEJ2000_group']/180"
   ]
  },
  {
   "cell_type": "code",
   "execution_count": 555,
   "metadata": {},
   "outputs": [],
   "source": [
    "\n",
    "\n",
    "x0 = np.cos(data['DEJ2000_group_rad'])*np.cos(data['RAJ2000_group_rad'])\n",
    "y0 = np.cos(data['DEJ2000_group_rad'])*np.sin(data['RAJ2000_group_rad'])\n",
    "z0 = np.sin(data['DEJ2000_group_rad'])\n",
    "\n",
    "x1 = np.cos(data['DEJ2000_gal_rad'])*np.cos(data['RAJ2000_gal_rad'])\n",
    "y1 = np.cos(data['DEJ2000_gal_rad'])*np.sin(data['RAJ2000_gal_rad'])\n",
    "z1 = np.sin(data['DEJ2000_gal_rad'])\n",
    "\n",
    "cos_a = x0*x1+y0*y1+z0*z1\n",
    "\n",
    "tan_a = pd.Series(np.sqrt(1-cos_a**2)/cos_a).fillna(0)"
   ]
  },
  {
   "cell_type": "code",
   "execution_count": 556,
   "metadata": {},
   "outputs": [],
   "source": [
    "data['r_pr'] = data['DL']*tan_a"
   ]
  },
  {
   "cell_type": "code",
   "execution_count": 557,
   "metadata": {},
   "outputs": [],
   "source": [
    "data['v'] = C*(data['z_gal']-data['z_group'])/(1+data['z_group'])"
   ]
  },
  {
   "cell_type": "code",
   "execution_count": 558,
   "metadata": {},
   "outputs": [],
   "source": [
    "galaxydata = data.to_numpy()"
   ]
  },
  {
   "cell_type": "code",
   "execution_count": 559,
   "metadata": {},
   "outputs": [],
   "source": [
    "# galaxydata"
   ]
  },
  {
   "cell_type": "code",
   "execution_count": 560,
   "metadata": {},
   "outputs": [],
   "source": [
    "# galaxydata[:,3].mean()"
   ]
  },
  {
   "cell_type": "code",
   "execution_count": 561,
   "metadata": {},
   "outputs": [
    {
     "name": "stdout",
     "output_type": "stream",
     "text": [
      "DATA SET SIZE 43\n",
      "Pre_r200= 0.44956051186426654\n",
      "Calculating Density w/Mirrored Data\n",
      "Vdisp from galaxies= 97.54155922752271\n",
      "Combined Vdisp= 97.54155922752271\n",
      "Calculating initial surface\n",
      "complete\n",
      "r200 estimate:  0.16901661771294996\n",
      "M200 estimate:  587909596836.2314\n"
     ]
    }
   ],
   "source": [
    "c = Caustic()\n",
    "good_flag = c.run_caustic(galaxydata, \n",
    "                          clus_ra=galaxydata[:,3].mean(),\n",
    "                          clus_dec=galaxydata[:,4].mean(),\n",
    "                          clus_z=galaxydata[:,5].mean())#, r200=0.743, clus_ra=195.095, clus_dec=19.131,clus_z=0.063)"
   ]
  },
  {
   "cell_type": "code",
   "execution_count": 562,
   "metadata": {},
   "outputs": [
    {
     "data": {
      "image/png": "[encoded data removed]",
      "text/plain": [
       "<Figure size 504x360 with 1 Axes>"
      ]
     },
     "metadata": {
      "needs_background": "light"
     },
     "output_type": "display_data"
    }
   ],
   "source": [
    "fig, ax = plt.subplots(1, 1, figsize=(7,5))\n",
    "x_max = data['r_pr'].max()\n",
    "y_max = abs(data['v']).max()\n",
    "gr = data\n",
    "x = gr['r_pr']\n",
    "y = gr['v'] \n",
    "ax.scatter(x, y, c=gr['iGrID'], marker='*')\n",
    "ax.plot(c.x_range, c.caustic_profile, c='red')\n",
    "ax.plot(c.x_range, -c.caustic_profile, c='red')\n",
    "ax.set_xlabel('Distance from center of the cluster, [Mpc]')\n",
    "ax.set_ylabel('Relative velocity in the cluster, [km/s]')\n",
    "# ax.set_title('iGrID = %d' % (iGrID))\n",
    "ax.set_ylim(top=y_max*1.1, bottom=-y_max*1.1)\n",
    "ax.set_xlim((0,10))\n",
    "ax.grid(True)"
   ]
  },
  {
   "cell_type": "code",
   "execution_count": 405,
   "metadata": {},
   "outputs": [
    {
     "data": {
      "image/png": "[encoded data removed]",
      "text/plain": [
       "<Figure size 504x360 with 1 Axes>"
      ]
     },
     "metadata": {
      "needs_background": "light"
     },
     "output_type": "display_data"
    }
   ],
   "source": [
    "fig, ax = plt.subplots(1, 1, figsize=(7,5))\n",
    "x_max = data['r_pr'].max()\n",
    "y_max = abs(data['v']).max()\n",
    "gr = data\n",
    "x = gr['r_pr']\n",
    "y = gr['v'] \n",
    "ax.scatter(x, y, c=gr['iGrID'], marker='*')\n",
    "ax.plot(c.x_range, c.caustic_profile, c='red')\n",
    "ax.plot(c.x_range, -c.caustic_profile, c='red')\n",
    "ax.set_xlabel('Distance from center of the cluster, [Mpc]')\n",
    "ax.set_ylabel('Relative velocity in the cluster, [km/s]')\n",
    "# ax.set_title('iGrID = %d' % (iGrID))\n",
    "ax.set_ylim(top=y_max*1.1, bottom=-y_max*1.1)\n",
    "ax.set_xlim((0,10))\n",
    "ax.grid(True)"
   ]
  },
  {
   "cell_type": "code",
   "execution_count": 20,
   "metadata": {},
   "outputs": [
    {
     "data": {
      "image/png": "[encoded data removed]",
      "text/plain": [
       "<Figure size 432x288 with 1 Axes>"
      ]
     },
     "metadata": {
      "needs_background": "light"
     },
     "output_type": "display_data"
    }
   ],
   "source": [
    "from pylab import *\n",
    "plot(c.r,c.v,'o', c='black')\n",
    "show()"
   ]
  },
  {
   "cell_type": "code",
   "execution_count": 21,
   "metadata": {},
   "outputs": [
    {
     "data": {
      "image/png": "[encoded data removed]",
      "text/plain": [
       "<Figure size 432x288 with 1 Axes>"
      ]
     },
     "metadata": {
      "needs_background": "light"
     },
     "output_type": "display_data"
    }
   ],
   "source": [
    "plot(data[data['iGrID']==iGrID]['r_pr'],data[data['iGrID']==iGrID]['v'],'o', c='black')\n",
    "show()"
   ]
  },
  {
   "cell_type": "markdown",
   "metadata": {},
   "source": [
    "Понять как они определяют расстояния. Очевидно, что немного по-другому. Это может быть причиной различия в оцененных массах на основе каустик и Mtot из таблиц."
   ]
  },
  {
   "cell_type": "markdown",
   "metadata": {},
   "source": [
    "To make two pictures made above look simular we made same changes in the \n",
    "- file \"\\__init\\__\"\n",
    "- in class Caustic\n",
    "- in function run_caustic\n",
    "- in function findangle(self,ra,dec,clus_RA,clus_DEC)\n",
    "\n",
    "Because with a previous code a projected radius was calculated another way."
   ]
  },
  {
   "cell_type": "code",
   "execution_count": 22,
   "metadata": {},
   "outputs": [],
   "source": [
    "m = MassCalc(ri = c.x_range,\n",
    "    A = c.caustic_profile,\n",
    "    vdisp = c.vdisp_gal,\n",
    "    clus_z = galaxydata[:,5].mean(),\n",
    "    r200=2.0,\n",
    "    conc1=5,\n",
    "    beta=0.25,\n",
    "    fbr=None,\n",
    "    H0=100.0,)"
   ]
  },
  {
   "cell_type": "code",
   "execution_count": 23,
   "metadata": {},
   "outputs": [
    {
     "data": {
      "text/plain": [
       "215.73010000000005"
      ]
     },
     "execution_count": 23,
     "metadata": {},
     "output_type": "execute_result"
    }
   ],
   "source": [
    "data[data['iGrID']==iGrID]['sigma'].mean()"
   ]
  },
  {
   "cell_type": "code",
   "execution_count": 24,
   "metadata": {},
   "outputs": [
    {
     "data": {
      "text/plain": [
       "17403720159393.834"
      ]
     },
     "execution_count": 24,
     "metadata": {},
     "output_type": "execute_result"
    }
   ],
   "source": [
    "m.M200"
   ]
  },
  {
   "cell_type": "code",
   "execution_count": 25,
   "metadata": {},
   "outputs": [
    {
     "data": {
      "text/plain": [
       "12427715478374.607"
      ]
     },
     "execution_count": 25,
     "metadata": {},
     "output_type": "execute_result"
    }
   ],
   "source": [
    "12427715478374.973 # for native radius calculatiouns\n",
    "12427715478374.607 # data[data['iGrID']==iGrID]['sigma'].mean()\n",
    "12427715478374.607 # for c.vdisp_gal"
   ]
  },
  {
   "cell_type": "markdown",
   "metadata": {},
   "source": [
    "Let's put caustic profile onto the galaxy cluster in a phase space"
   ]
  },
  {
   "cell_type": "code",
   "execution_count": 26,
   "metadata": {},
   "outputs": [
    {
     "data": {
      "text/plain": [
       "(120,)"
      ]
     },
     "execution_count": 26,
     "metadata": {},
     "output_type": "execute_result"
    }
   ],
   "source": [
    "c.caustic_profile.shape"
   ]
  },
  {
   "cell_type": "code",
   "execution_count": 27,
   "metadata": {},
   "outputs": [
    {
     "data": {
      "text/plain": [
       "(120,)"
      ]
     },
     "execution_count": 27,
     "metadata": {},
     "output_type": "execute_result"
    }
   ],
   "source": [
    "c.x_range.shape"
   ]
  },
  {
   "cell_type": "code",
   "execution_count": 28,
   "metadata": {},
   "outputs": [
    {
     "data": {
      "image/png": "[encoded data removed]",
      "text/plain": [
       "<Figure size 504x360 with 1 Axes>"
      ]
     },
     "metadata": {
      "needs_background": "light"
     },
     "output_type": "display_data"
    }
   ],
   "source": [
    "fig, ax = plt.subplots(1, 1, figsize=(7,5))\n",
    "x_max = data[data['iGrID']==iGrID]['r_pr'].max()\n",
    "y_max = abs(data[data['iGrID']==iGrID]['v']).max()\n",
    "gr = data[data['iGrID'] == iGrID] \n",
    "x = gr['r_pr']\n",
    "y = gr['v'] \n",
    "ax.scatter(x, y, c='blue', marker='*')\n",
    "ax.plot(c.x_range, c.caustic_profile, c='black')\n",
    "ax.plot(c.x_range, -c.caustic_profile, c='black')\n",
    "ax.set_xlabel('Distance from center of the cluster, [Mpc]')\n",
    "ax.set_ylabel('Relative velocity in the cluster, [km/s]')\n",
    "ax.set_title('iGrID = %d' % (iGrID))\n",
    "ax.set_ylim(top=y_max*1.1, bottom=-y_max*1.1)\n",
    "ax.set_xlim((0,x_max*1.1))\n",
    "ax.grid(True)"
   ]
  },
  {
   "cell_type": "code",
   "execution_count": 29,
   "metadata": {},
   "outputs": [
    {
     "data": {
      "text/plain": [
       "42    0.329088\n",
       "Name: logMtot, dtype: float64"
      ]
     },
     "execution_count": 29,
     "metadata": {},
     "output_type": "execute_result"
    }
   ],
   "source": [
    "m.M200/np.power(10, data[data['iGrID']==iGrID]['logMtot'])[-1:]"
   ]
  },
  {
   "cell_type": "code",
   "execution_count": 30,
   "metadata": {},
   "outputs": [],
   "source": [
    "# def drawPlot_caustic(data, GrID, ax, color):\n",
    "#     x_max = data['r_pr'].max()\n",
    "#     y_max = abs(data['v']).max()\n",
    "#     gr = data[data['iGrID'] == GrID] \n",
    "#     x = gr['r_pr']\n",
    "#     y = gr['v'] \n",
    "#     ax.scatter(x, y, c=color, marker='*')\n",
    "#     ax.plot(c.x_range.shape, c.caustic_profile, c='black')\n",
    "#     ax.plot(c.x_range.shape, -c.caustic_profile, c='black')\n",
    "#     ax.set_xlabel('Distance from center of the cluster, [Mpc]')\n",
    "#     ax.set_ylabel('Relative velocity in the cluster, [km/s]')\n",
    "#     ax.set_title('iGrID = %d' % (GrID))\n",
    "#     ax.set_ylim(top=y_max, bottom=-y_max)\n",
    "#     ax.set_xlim((0,x_max))\n",
    "#     ax.grid(True)\n"
   ]
  },
  {
   "cell_type": "code",
   "execution_count": 62,
   "metadata": {},
   "outputs": [],
   "source": [
    "# fig, axs = plt.subplots(7, 3, figsize=(15,25))\n",
    "# GrIDs = data['iGrID'].unique() #Создаём вектор всех групп\n",
    "# for i in range(21):\n",
    "#     drawPlot_caustic(data, GrIDs[i], axs[i//3, i%3], 'blue') #Для каждой группы вызываем функцию и передаём ей нужный 'подграфик'\n",
    "# plt.tight_layout()"
   ]
  },
  {
   "cell_type": "code",
   "execution_count": 81,
   "metadata": {},
   "outputs": [
    {
     "name": "stdout",
     "output_type": "stream",
     "text": [
      "DATA SET SIZE 43\n",
      "Pre_r200= 0.35374227608257586\n",
      "Calculating Density w/Mirrored Data\n",
      "Vdisp from galaxies= 118.4137724813458\n",
      "Combined Vdisp= 118.4137724813458\n",
      "Calculating initial surface\n",
      "complete\n",
      "r200 estimate:  0.2338076934627482\n",
      "M200 estimate:  1550714469573.0642\n",
      "DATA SET SIZE 205\n",
      "Pre_r200= 0.6798314334871322\n",
      "Calculating Density w/Mirrored Data\n",
      "Vdisp from galaxies= 744.170128332981\n",
      "Combined Vdisp= 744.170128332981\n",
      "Calculating initial surface\n",
      "complete\n",
      "r200 estimate:  1.5979078856549322\n",
      "M200 estimate:  507194570879603.3\n",
      "DATA SET SIZE 40\n",
      "Pre_r200= 0.7173606684728591\n",
      "Calculating Density w/Mirrored Data\n",
      "Vdisp from galaxies= 281.107133783919\n",
      "Combined Vdisp= 281.107133783919\n",
      "Calculating initial surface\n",
      "complete\n",
      "r200 estimate:  0.5849161329127088\n",
      "M200 estimate:  24718592905296.79\n",
      "DATA SET SIZE 31\n",
      "Pre_r200= 0.5758685663785436\n",
      "Calculating Density w/Mirrored Data\n",
      "Vdisp from galaxies= 280.4271572873902\n",
      "Combined Vdisp= 280.4271572873902\n",
      "Calculating initial surface\n",
      "complete\n",
      "r200 estimate:  0.5686943037020485\n",
      "M200 estimate:  22739530261437.12\n",
      "DATA SET SIZE 66\n",
      "Pre_r200= 0.9543044880057066\n",
      "Calculating Density w/Mirrored Data\n",
      "Vdisp from galaxies= 913.007041570078\n",
      "Combined Vdisp= 913.007041570078\n",
      "Calculating initial surface\n",
      "complete\n",
      "r200 estimate:  1.7228561392588617\n",
      "M200 estimate:  638592111591100.2\n",
      "DATA SET SIZE 34\n",
      "Pre_r200= 0.5288378526323049\n",
      "Calculating Density w/Mirrored Data\n",
      "Vdisp from galaxies= 359.20688021497773\n",
      "Combined Vdisp= 359.20688021497773\n",
      "Calculating initial surface\n",
      "complete\n",
      "r200 estimate:  0.8048584217703311\n",
      "M200 estimate:  65243641933732.78\n",
      "DATA SET SIZE 31\n",
      "Pre_r200= 0.6401967348530284\n",
      "Calculating Density w/Mirrored Data\n",
      "Vdisp from galaxies= 433.7597912711197\n",
      "Combined Vdisp= 433.7597912711197\n",
      "Calculating initial surface\n",
      "complete\n",
      "r200 estimate:  0.9208674248066417\n",
      "M200 estimate:  97242516023380.22\n",
      "DATA SET SIZE 35\n",
      "Pre_r200= 0.61946789863605\n",
      "Calculating Density w/Mirrored Data\n",
      "Vdisp from galaxies= 464.3876364738075\n",
      "Combined Vdisp= 464.3876364738075\n",
      "Calculating initial surface\n",
      "complete\n",
      "r200 estimate:  0.935861084666734\n",
      "M200 estimate:  102537029110083.88\n",
      "DATA SET SIZE 39\n",
      "Pre_r200= 0.8200657445895702\n",
      "Calculating Density w/Mirrored Data\n",
      "Vdisp from galaxies= 527.2768546516704\n",
      "Combined Vdisp= 527.2768546516704\n",
      "Calculating initial surface\n",
      "complete\n",
      "r200 estimate:  0.9734900249535211\n",
      "M200 estimate:  114751484669260.66\n",
      "DATA SET SIZE 38\n",
      "Pre_r200= 0.6401967348530284\n",
      "Calculating Density w/Mirrored Data\n",
      "Vdisp from galaxies= 537.3159524109603\n",
      "Combined Vdisp= 537.3159524109603\n",
      "Calculating initial surface\n",
      "complete\n",
      "r200 estimate:  0.9745336967772709\n",
      "M200 estimate:  115586433982072.28\n",
      "DATA SET SIZE 104\n",
      "Pre_r200= 0.98173696340138\n",
      "Calculating Density w/Mirrored Data\n",
      "Vdisp from galaxies= 884.368394754098\n",
      "Combined Vdisp= 884.368394754098\n",
      "Calculating initial surface\n",
      "complete\n",
      "r200 estimate:  1.5881304982780433\n",
      "M200 estimate:  502011112371446.2\n",
      "DATA SET SIZE 99\n",
      "Pre_r200= 1.1563067303060888\n",
      "Calculating Density w/Mirrored Data\n",
      "Vdisp from galaxies= 1082.3716775371581\n",
      "Combined Vdisp= 1082.3716775371581\n",
      "Calculating initial surface\n",
      "complete\n",
      "r200 estimate:  1.832805080486725\n",
      "M200 estimate:  771814216063607.5\n",
      "DATA SET SIZE 76\n",
      "Pre_r200= 0.9260925126542184\n",
      "Calculating Density w/Mirrored Data\n",
      "Vdisp from galaxies= 715.3012356521505\n",
      "Combined Vdisp= 715.3012356521505\n",
      "Calculating initial surface\n",
      "complete\n",
      "r200 estimate:  1.357070160707917\n",
      "M200 estimate:  312410446603144.3\n",
      "DATA SET SIZE 35\n",
      "Pre_r200= 0.6988381416127446\n",
      "Calculating Density w/Mirrored Data\n",
      "Vdisp from galaxies= 578.7349716292651\n",
      "Combined Vdisp= 578.7349716292651\n",
      "Calculating initial surface\n",
      "complete\n",
      "r200 estimate:  1.1289366597617534\n",
      "M200 estimate:  179915771098599.0\n",
      "DATA SET SIZE 34\n",
      "Pre_r200= 0.5980500924528229\n",
      "Calculating Density w/Mirrored Data\n",
      "Vdisp from galaxies= 411.52680635685306\n",
      "Combined Vdisp= 411.52680635685306\n",
      "Calculating initial surface\n",
      "complete\n",
      "r200 estimate:  0.806534667714553\n",
      "M200 estimate:  65692124929959.78\n",
      "DATA SET SIZE 39\n",
      "Pre_r200= 0.6401967348530284\n",
      "Calculating Density w/Mirrored Data\n",
      "Vdisp from galaxies= 423.31257548234356\n",
      "Combined Vdisp= 423.31257548234356\n",
      "Calculating initial surface\n",
      "complete\n",
      "r200 estimate:  0.9644649534128976\n",
      "M200 estimate:  112371787254418.25\n",
      "DATA SET SIZE 82\n",
      "Pre_r200= 0.8670322317530142\n",
      "Calculating Density w/Mirrored Data\n",
      "Vdisp from galaxies= 1119.5492632423875\n",
      "Combined Vdisp= 1119.5492632423875\n",
      "Calculating initial surface\n",
      "complete\n",
      "r200 estimate:  1.914378935849855\n",
      "M200 estimate:  884495679622821.2\n",
      "DATA SET SIZE 54\n",
      "Pre_r200= 0.6988381416127446\n",
      "Calculating Density w/Mirrored Data\n",
      "Vdisp from galaxies= 492.86208239395\n",
      "Combined Vdisp= 492.86208239395\n",
      "Calculating initial surface\n",
      "complete\n",
      "r200 estimate:  1.0504520782496083\n",
      "M200 estimate:  145254626979393.03\n",
      "DATA SET SIZE 33\n",
      "Pre_r200= 0.5758685663785436\n",
      "Calculating Density w/Mirrored Data\n",
      "Vdisp from galaxies= 770.0063935000467\n",
      "Combined Vdisp= 770.0063935000467\n",
      "Calculating initial surface\n",
      "complete\n",
      "r200 estimate:  1.540922594167981\n",
      "M200 estimate:  463160078687338.6\n",
      "DATA SET SIZE 47\n",
      "Pre_r200= 0.7354346773940376\n",
      "Calculating Density w/Mirrored Data\n",
      "Vdisp from galaxies= 508.6717666224595\n",
      "Combined Vdisp= 508.6717666224595\n",
      "Calculating initial surface\n",
      "complete\n",
      "r200 estimate:  1.1106625048574335\n",
      "M200 estimate:  172446341455641.94\n",
      "DATA SET SIZE 32\n",
      "Pre_r200= 0.5980500924528229\n",
      "Calculating Density w/Mirrored Data\n",
      "Vdisp from galaxies= 427.1985483226475\n",
      "Combined Vdisp= 427.1985483226475\n",
      "Calculating initial surface\n",
      "complete\n",
      "r200 estimate:  0.9005681752128453\n",
      "M200 estimate:  92097474027556.7\n"
     ]
    }
   ],
   "source": [
    "for iGrID in data['iGrID'].unique():\n",
    "\n",
    "    galaxydata = (data[data['iGrID']==iGrID][['RAJ2000_gal', 'DEJ2000_gal', 'z_gal', \n",
    "                                          'RAJ2000_group', 'DEJ2000_group', 'z_group']]).to_numpy()\n",
    "\n",
    "    c = Caustic()\n",
    "    good_flag = c.run_caustic(galaxydata, \n",
    "                          clus_ra=galaxydata[:,3].mean(),\n",
    "                          clus_dec=galaxydata[:,4].mean(),\n",
    "                          clus_z=galaxydata[:,5].mean()) #, r200=0.743, clus_ra=195.095, \n",
    "                                                        #clus_dec=19.131,clus_z=0.063\n",
    "\n",
    "    m = MassCalc(ri = c.x_range,\n",
    "                A = c.caustic_profile,\n",
    "                vdisp = c.vdisp_gal,\n",
    "                clus_z = galaxydata[:,5].mean(),\n",
    "                r200=2.5,\n",
    "                conc1=5,\n",
    "                beta=0.25,\n",
    "                fbr=None,\n",
    "                H0=73,)\n",
    "    for i in data[data['iGrID']==iGrID].index:\n",
    "        data.loc[i, 'M200'] = m.M200"
   ]
  },
  {
   "cell_type": "code",
   "execution_count": 82,
   "metadata": {},
   "outputs": [],
   "source": [
    "# data"
   ]
  },
  {
   "cell_type": "code",
   "execution_count": 83,
   "metadata": {},
   "outputs": [
    {
     "data": {
      "text/plain": [
       "array([   6,    8,   10,   47,   91,  157,  179,  277,  279,  293,  298,\n",
       "        344,  354,  387,  396,  400,  442,  539,  732, 1007, 1069])"
      ]
     },
     "execution_count": 83,
     "metadata": {},
     "output_type": "execute_result"
    }
   ],
   "source": [
    "np.array(data['iGrID'].unique())"
   ]
  },
  {
   "cell_type": "code",
   "execution_count": 87,
   "metadata": {},
   "outputs": [
    {
     "data": {
      "image/png": "[encoded data removed]",
      "text/plain": [
       "<Figure size 864x504 with 1 Axes>"
      ]
     },
     "metadata": {
      "needs_background": "light"
     },
     "output_type": "display_data"
    }
   ],
   "source": [
    "fig, ax = plt.subplots(1, 1, figsize=(12,7))\n",
    "data.sort_values(by='Ntot', ascending=True, inplace=True)\n",
    "ax.plot([i for i in range(len(data['iGrID'].unique()))], np.array(data['M200'].unique()), marker='*', label='M200')\n",
    "ax.plot([i for i in range(len(data['iGrID'].unique()))], np.array(np.power(10, data['logMtot'].unique())), marker='*', label='Mtot')\n",
    "# ax.set_xlabel('Distance from center of the cluster, [Mpc]')\n",
    "ax.set_ylabel('Estimated mass, [M_sol]')\n",
    "ax.legend()\n",
    "# ax.set_title('iGrID = %d' % (iGrID))\n",
    "\n",
    "ax.grid(True)"
   ]
  },
  {
   "cell_type": "code",
   "execution_count": 85,
   "metadata": {},
   "outputs": [
    {
     "data": {
      "text/plain": [
       "count    1200.000000\n",
       "mean        0.850548\n",
       "std         0.297530\n",
       "min         0.368063\n",
       "25%         0.638311\n",
       "50%         0.804982\n",
       "75%         1.071443\n",
       "max         1.636950\n",
       "dtype: float64"
      ]
     },
     "execution_count": 85,
     "metadata": {},
     "output_type": "execute_result"
    }
   ],
   "source": [
    "(data['M200']/np.power(10, data['logMtot'])).describe()"
   ]
  },
  {
   "cell_type": "code",
   "execution_count": 563,
   "metadata": {},
   "outputs": [
    {
     "name": "stdout",
     "output_type": "stream",
     "text": [
      "Defaulting to user installation because normal site-packages is not writeable\n",
      "Collecting tqdm\n",
      "  Downloading tqdm-4.43.0-py2.py3-none-any.whl (59 kB)\n",
      "\u001b[K     |████████████████████████████████| 59 kB 1.4 MB/s eta 0:00:011\n",
      "\u001b[?25hInstalling collected packages: tqdm\n",
      "Successfully installed tqdm-4.43.0\n",
      "Note: you may need to restart the kernel to use updated packages.\n"
     ]
    }
   ],
   "source": [
    "pip install tqdm"
   ]
  },
  {
   "cell_type": "code",
   "execution_count": 569,
   "metadata": {},
   "outputs": [
    {
     "name": "stderr",
     "output_type": "stream",
     "text": [
      "100%|██████████| 100/100 [00:11<00:00,  8.88it/s]\n"
     ]
    }
   ],
   "source": [
    "from tqdm import tqdm\n",
    "for i in tqdm(range(100)):\n",
    "    pd.read_csv('glist_s.csv')"
   ]
  },
  {
   "cell_type": "code",
   "execution_count": null,
   "metadata": {},
   "outputs": [],
   "source": []
  }
 ],
 "metadata": {
  "kernelspec": {
   "display_name": "Python 3",
   "language": "python",
   "name": "python3"
  },
  "language_info": {
   "codemirror_mode": {
    "name": "ipython",
    "version": 3
   },
   "file_extension": ".py",
   "mimetype": "text/x-python",
   "name": "python",
   "nbconvert_exporter": "python",
   "pygments_lexer": "ipython3",
   "version": "3.5.2"
  }
 },
 "nbformat": 4,
 "nbformat_minor": 2
}
