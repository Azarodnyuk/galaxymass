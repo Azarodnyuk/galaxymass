{
 "cells": [
  {
   "cell_type": "code",
   "execution_count": 1,
   "metadata": {},
   "outputs": [],
   "source": [
    "import dask\n",
    "import numpy as np\n",
    "import sklearn\n",
    "from matplotlib import pyplot as plt\n",
    "from matplotlib import cm\n",
    "import copy\n",
    "import astropy\n",
    "import hdbscan\n",
    "import pandas as pd\n",
    "\n",
    "from astropy.io import fits"
   ]
  },
  {
   "cell_type": "code",
   "execution_count": 2,
   "metadata": {},
   "outputs": [],
   "source": [
    "y = pd.read_csv('rcsed_iGrID.csv')"
   ]
  },
  {
   "cell_type": "code",
   "execution_count": 3,
   "metadata": {},
   "outputs": [],
   "source": [
    "sdss_indx = list(y[~y.iGrID.isna()].index)\n",
    "\n",
    "y = y.loc[sdss_indx,:].to_numpy().flatten()\n",
    "\n",
    "sdss_labels = pd.Series(y)"
   ]
  },
  {
   "cell_type": "code",
   "execution_count": 4,
   "metadata": {},
   "outputs": [],
   "source": [
    "hdul = fits.open('rcsed_v2_clean.fits', memmap=astropy.io.fits.Conf.use_memmap.defaultvalue, lazy_load_hdus=True)"
   ]
  },
  {
   "cell_type": "code",
   "execution_count": 5,
   "metadata": {},
   "outputs": [],
   "source": [
    "cols = hdul[1].columns"
   ]
  },
  {
   "cell_type": "code",
   "execution_count": 6,
   "metadata": {},
   "outputs": [],
   "source": [
    "data = hdul[1].data"
   ]
  },
  {
   "cell_type": "code",
   "execution_count": 7,
   "metadata": {},
   "outputs": [],
   "source": [
    "hdul.close()\n",
    "del hdul"
   ]
  },
  {
   "cell_type": "code",
   "execution_count": null,
   "metadata": {},
   "outputs": [],
   "source": [
    "DATA = pd.DataFrame(np.array(data).byteswap().newbyteorder()) "
   ]
  },
  {
   "cell_type": "code",
   "execution_count": null,
   "metadata": {},
   "outputs": [],
   "source": [
    "del data"
   ]
  },
  {
   "cell_type": "code",
   "execution_count": null,
   "metadata": {},
   "outputs": [],
   "source": [
    "RA = DATA.ra\n",
    "DEC = DATA.dec\n",
    "Z = DATA.z"
   ]
  },
  {
   "cell_type": "code",
   "execution_count": null,
   "metadata": {},
   "outputs": [],
   "source": [
    "ra_dec_z = DATA[['ra','dec','z']]"
   ]
  },
  {
   "cell_type": "code",
   "execution_count": null,
   "metadata": {},
   "outputs": [],
   "source": [
    "from sklearn.preprocessing import StandardScaler\n",
    "\n",
    "stdscaler = StandardScaler().fit(ra_dec_z) #[sdss_indx])\n",
    "\n",
    "ra_dec_z_scaled = stdscaler.transform(ra_dec_z)"
   ]
  },
  {
   "cell_type": "code",
   "execution_count": null,
   "metadata": {},
   "outputs": [],
   "source": [
    "hdbScan = hdbscan.hdbscan_.HDBSCAN( min_cluster_size=3, #2,\n",
    "                                    min_samples=15, #3,\n",
    "                                    algorithm='boruvka_kdtree',   #'boruvka_kdtree', \n",
    "                                    leaf_size=50, #30,\n",
    "                                    approx_min_span_tree=True,\n",
    "                                    gen_min_span_tree=True,\n",
    "                                    core_dist_n_jobs=4,\n",
    "                                    cluster_selection_method='eom',\n",
    "                                    allow_single_cluster=False,\n",
    "                                    prediction_data=False,\n",
    "                                    match_reference_implementation=False).fit(ra_dec_z_scaled)\n",
    "\n",
    "rcsed_labels = hdbScan.labels_\n",
    "for i in range(len(rcsed_labels)):\n",
    "    if rcsed_labels[i]==-1:\n",
    "        rcsed_labels[i]=i+5000000\n",
    "\n",
    "true = y\n",
    "pred = rcsed_labels\n",
    "\n",
    "fms = round(sklearn.metrics.fowlkes_mallows_score(true, pred[sdss_indx]),5)\n",
    "ars = round(sklearn.metrics.adjusted_rand_score(true, pred[sdss_indx]),5)\n",
    "nmi = round(sklearn.metrics.normalized_mutual_info_score(true, pred[sdss_indx]),5)\n",
    "\n",
    "print(fms)"
   ]
  },
  {
   "cell_type": "code",
   "execution_count": null,
   "metadata": {},
   "outputs": [],
   "source": []
  },
  {
   "cell_type": "code",
   "execution_count": null,
   "metadata": {},
   "outputs": [],
   "source": []
  }
 ],
 "metadata": {
  "kernelspec": {
   "display_name": "Python 3",
   "language": "python",
   "name": "python3"
  },
  "language_info": {
   "codemirror_mode": {
    "name": "ipython",
    "version": 3
   },
   "file_extension": ".py",
   "mimetype": "text/x-python",
   "name": "python",
   "nbconvert_exporter": "python",
   "pygments_lexer": "ipython3",
   "version": "3.5.2"
  }
 },
 "nbformat": 4,
 "nbformat_minor": 4
}
