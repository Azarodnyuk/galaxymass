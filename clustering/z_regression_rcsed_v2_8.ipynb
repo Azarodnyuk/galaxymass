{
 "cells": [
  {
   "cell_type": "code",
   "execution_count": 1,
   "metadata": {},
   "outputs": [
    {
     "name": "stderr",
     "output_type": "stream",
     "text": [
      "WARNING: WrongDBMModuleWarning: Existing astropy cache is in an unsupported format, either install the appropriate package or use astropy.utils.data.clear_download_cache() to delete the whole cache; db type is dbm.gnu, but the module is not available [astropy.utils.data]\n",
      "WARNING: leap-second auto-update failed due to the following exception: WrongDBMModule('Existing astropy cache is in an unsupported format, either install the appropriate package or use astropy.utils.data.clear_download_cache() to delete the whole cache; db type is dbm.gnu, but the module is not available') [astropy.time.core]\n"
     ]
    }
   ],
   "source": [
    "from comet_ml import Experiment\n",
    "\n",
    "import pandas as pd\n",
    "import numpy as np\n",
    "import sklearn\n",
    "import seaborn as sns\n",
    "import copy\n",
    "import hdbscan\n",
    "import astropy\n",
    "import sys\n",
    "import warnings \n",
    "\n",
    "from matplotlib import pyplot as plt\n",
    "from matplotlib import cm\n",
    "\n",
    "from sklearn.model_selection import train_test_split\n",
    "from sklearn.impute import SimpleImputer\n",
    "\n",
    "from astropy.coordinates import Distance\n",
    "from astropy import units as u\n",
    "from astropy.cosmology import WMAP7\n",
    "from astropy.io import fits\n",
    "\n",
    "from collections import Counter\n",
    "from pandas.api.types import is_numeric_dtype\n",
    "\n",
    "from keras.callbacks import ModelCheckpoint\n",
    "from keras.models import Sequential\n",
    "from keras.layers import Dense, Activation, Flatten\n",
    "\n",
    "warnings.filterwarnings('ignore')\n",
    "warnings.filterwarnings('ignore', category=DeprecationWarning)\n",
    "# from xgboost import XGBRegressor"
   ]
  },
  {
   "cell_type": "code",
   "execution_count": 2,
   "metadata": {},
   "outputs": [],
   "source": [
    "# insert at 1, 0 is the script path (or '' in REPL)\n",
    "PATH = '/datadrive/azarodnyuk/GALAXY/'\n",
    "# sys.path.insert(1, PATH)"
   ]
  },
  {
   "cell_type": "code",
   "execution_count": 3,
   "metadata": {},
   "outputs": [],
   "source": [
    "# cd ../"
   ]
  },
  {
   "cell_type": "code",
   "execution_count": 4,
   "metadata": {},
   "outputs": [],
   "source": [
    "y = pd.read_csv(PATH+'iGrID_rcsed_8_clean.csv', index_col='Unnamed: 0')\n",
    "fltr = pd.notna(y.iGrID)"
   ]
  },
  {
   "cell_type": "code",
   "execution_count": 5,
   "metadata": {},
   "outputs": [],
   "source": [
    "# Use the code below to download the original dataset\n",
    "\n",
    "# hdul = fits.open('http://gal-03.sai.msu.ru/~vtoptun/photometry/rcsed_v2_8.fits', memmap=astropy.io.fits.Conf.use_memmap.defaultvalue, lazy_load_hdus=True)"
   ]
  },
  {
   "cell_type": "code",
   "execution_count": 6,
   "metadata": {},
   "outputs": [],
   "source": [
    "# hdul = fits.open(sys.path[1]+'rcsed_v2_8.fits', memmap=astropy.io.fits.Conf.use_memmap.defaultvalue, lazy_load_hdus=True)"
   ]
  },
  {
   "cell_type": "code",
   "execution_count": 7,
   "metadata": {},
   "outputs": [],
   "source": [
    "# cols = hdul[1].columns"
   ]
  },
  {
   "cell_type": "code",
   "execution_count": 8,
   "metadata": {},
   "outputs": [],
   "source": [
    "# data = hdul[1].data"
   ]
  },
  {
   "cell_type": "code",
   "execution_count": 9,
   "metadata": {},
   "outputs": [],
   "source": [
    "# hdul.close()\n",
    "# del hdul"
   ]
  },
  {
   "cell_type": "code",
   "execution_count": 10,
   "metadata": {},
   "outputs": [],
   "source": [
    "# DATA = pd.DataFrame(np.array(data).byteswap().newbyteorder())\n",
    "# del data"
   ]
  },
  {
   "cell_type": "code",
   "execution_count": 11,
   "metadata": {},
   "outputs": [],
   "source": [
    "DATA = pd.read_csv(PATH+'rcsed_v2_8.csv')"
   ]
  },
  {
   "cell_type": "code",
   "execution_count": 12,
   "metadata": {},
   "outputs": [
    {
     "data": {
      "text/plain": [
       "(4109726, 480)"
      ]
     },
     "execution_count": 12,
     "metadata": {},
     "output_type": "execute_result"
    }
   ],
   "source": [
    "DATA.shape"
   ]
  },
  {
   "cell_type": "code",
   "execution_count": 13,
   "metadata": {},
   "outputs": [
    {
     "name": "stdout",
     "output_type": "stream",
     "text": [
      "{dtype('int64'): 24, dtype('float64'): 447, dtype('O'): 9}\n"
     ]
    }
   ],
   "source": [
    "type_stats = {}\n",
    "for c in DATA.columns:\n",
    "    t = DATA[c].dtype\n",
    "    if t in type_stats:\n",
    "        type_stats[DATA[c].dtype] += 1\n",
    "    else:\n",
    "        type_stats[DATA[c].dtype] = 1\n",
    "\n",
    "print(type_stats)"
   ]
  },
  {
   "cell_type": "code",
   "execution_count": 14,
   "metadata": {},
   "outputs": [
    {
     "name": "stdout",
     "output_type": "stream",
     "text": [
      "Unnamed: 0\n",
      "ind\n",
      "bestObjID_sdss\n",
      "bossSpecObjID_sdss\n",
      "mjd_sdss\n",
      "plate_sdss\n",
      "fiberID_sdss\n",
      "q_z_2df\n",
      "quality_6df\n",
      "specid_6df\n",
      "recno_uzc\n",
      "obsid_lamost\n",
      "lmjd_lamost\n",
      "mjd_lamost\n",
      "spid_lamost\n",
      "fiberid_lamost\n",
      "f_z_lega_c\n",
      "f_spec_lega_c\n",
      "OBJNO_deep2\n",
      "OBJNO_deep3\n",
      "Q_wigglez\n",
      "NQ_gama\n",
      "qual_2dFLenS\n",
      "target_2dFLenS\n"
     ]
    }
   ],
   "source": [
    "for c in DATA.columns:\n",
    "    t = DATA[c].dtype\n",
    "    if t == '<i8':\n",
    "        print(c)"
   ]
  },
  {
   "cell_type": "code",
   "execution_count": 15,
   "metadata": {},
   "outputs": [],
   "source": [
    "DATA.drop(['ind', 'bestObjID_sdss'], inplace=True, axis=1)\n",
    "DATA = DATA.select_dtypes(include='number')"
   ]
  },
  {
   "cell_type": "code",
   "execution_count": 16,
   "metadata": {},
   "outputs": [
    {
     "data": {
      "text/plain": [
       "(4109726, 469)"
      ]
     },
     "execution_count": 16,
     "metadata": {},
     "output_type": "execute_result"
    }
   ],
   "source": [
    "DATA.shape"
   ]
  },
  {
   "cell_type": "code",
   "execution_count": 17,
   "metadata": {},
   "outputs": [
    {
     "name": "stdout",
     "output_type": "stream",
     "text": [
      "{dtype('int64'): 22, dtype('float64'): 447}\n"
     ]
    }
   ],
   "source": [
    "type_stats = {}\n",
    "for c in DATA.columns:\n",
    "    t = DATA[c].dtype\n",
    "    if t in type_stats:\n",
    "        type_stats[DATA[c].dtype] += 1\n",
    "    else:\n",
    "        type_stats[DATA[c].dtype] = 1\n",
    "\n",
    "print(type_stats)"
   ]
  },
  {
   "cell_type": "code",
   "execution_count": 19,
   "metadata": {},
   "outputs": [
    {
     "data": {
      "text/plain": [
       "27"
      ]
     },
     "execution_count": 19,
     "metadata": {},
     "output_type": "execute_result"
    }
   ],
   "source": [
    "len(\"percents of nan in filtered\")"
   ]
  },
  {
   "cell_type": "code",
   "execution_count": 20,
   "metadata": {},
   "outputs": [],
   "source": [
    "DATA.replace([-2147483648, -9223372036854775808,-32768,255, -999999488.0,\n",
    " 99.0,\n",
    " -99.0,\n",
    " 9999.0,\n",
    " -999.0,\n",
    " float('inf'),\n",
    " -9999.0], np.nan, inplace=True)"
   ]
  },
  {
   "cell_type": "code",
   "execution_count": 21,
   "metadata": {},
   "outputs": [],
   "source": [
    "corr_matrix = DATA.corr()"
   ]
  },
  {
   "cell_type": "code",
   "execution_count": 34,
   "metadata": {},
   "outputs": [
    {
     "data": {
      "text/plain": [
       "z_sdss                  1.000000\n",
       "z_lamost                0.975031\n",
       "z_2dFLenS               0.935908\n",
       "z_uzc                   0.881756\n",
       "z_cfa                   0.808534\n",
       "                          ...   \n",
       "kcorr_aper3mag_Y_vhs   -0.416873\n",
       "kcorr_aper2mag_Y_vhs   -0.416884\n",
       "kcorr_petromag_Y_vhs   -0.416884\n",
       "NQ_gama                -0.511431\n",
       "qual_2dFLenS           -0.535428\n",
       "Name: z_sdss, Length: 68, dtype: float64"
      ]
     },
     "execution_count": 34,
     "metadata": {},
     "output_type": "execute_result"
    }
   ],
   "source": [
    "corr_matrix[abs(corr_matrix.z_sdss)>0.4].z_sdss.sort_values(ascending=False)"
   ]
  },
  {
   "cell_type": "code",
   "execution_count": 35,
   "metadata": {},
   "outputs": [],
   "source": [
    "col_name_corr = list(corr_matrix[abs(corr_matrix.z_sdss)>0.5].z_sdss.sort_values(ascending=False).index)"
   ]
  },
  {
   "cell_type": "code",
   "execution_count": 36,
   "metadata": {},
   "outputs": [],
   "source": [
    "# col_name_corr"
   ]
  },
  {
   "cell_type": "code",
   "execution_count": 51,
   "metadata": {},
   "outputs": [],
   "source": [
    "# DATA[col_name_corr].isna().sum()"
   ]
  },
  {
   "cell_type": "code",
   "execution_count": 37,
   "metadata": {},
   "outputs": [],
   "source": [
    "# pip install keras"
   ]
  },
  {
   "cell_type": "code",
   "execution_count": 38,
   "metadata": {},
   "outputs": [],
   "source": [
    "# pip install tensorflow"
   ]
  },
  {
   "cell_type": "markdown",
   "metadata": {},
   "source": [
    "### Regression for redshift z"
   ]
  },
  {
   "cell_type": "code",
   "execution_count": 39,
   "metadata": {},
   "outputs": [
    {
     "data": {
      "text/html": [
       "<div>\n",
       "<style scoped>\n",
       "    .dataframe tbody tr th:only-of-type {\n",
       "        vertical-align: middle;\n",
       "    }\n",
       "\n",
       "    .dataframe tbody tr th {\n",
       "        vertical-align: top;\n",
       "    }\n",
       "\n",
       "    .dataframe thead th {\n",
       "        text-align: right;\n",
       "    }\n",
       "</style>\n",
       "<table border=\"1\" class=\"dataframe\">\n",
       "  <thead>\n",
       "    <tr style=\"text-align: right;\">\n",
       "      <th></th>\n",
       "      <th>Unnamed: 0</th>\n",
       "      <th>ra</th>\n",
       "      <th>dec</th>\n",
       "      <th>z_sdss</th>\n",
       "      <th>zErr_sdss</th>\n",
       "      <th>specObjID_sdss</th>\n",
       "      <th>bossSpecObjID_sdss</th>\n",
       "      <th>mjd_sdss</th>\n",
       "      <th>plate_sdss</th>\n",
       "      <th>fiberID_sdss</th>\n",
       "      <th>...</th>\n",
       "      <th>kcorr_kronmag_z_panstarrs</th>\n",
       "      <th>kcorr_integmag_g_legacy</th>\n",
       "      <th>kcorr_integmag_r_legacy</th>\n",
       "      <th>kcorr_integmag_z_legacy</th>\n",
       "      <th>kcorr_aper2mag_g_legacy</th>\n",
       "      <th>kcorr_aper2mag_r_legacy</th>\n",
       "      <th>kcorr_aper3mag_g_legacy</th>\n",
       "      <th>kcorr_aper3mag_r_legacy</th>\n",
       "      <th>kcorr_aper6mag_g_legacy</th>\n",
       "      <th>kcorr_aper6mag_r_legacy</th>\n",
       "    </tr>\n",
       "  </thead>\n",
       "  <tbody>\n",
       "    <tr>\n",
       "      <th>0</th>\n",
       "      <td>0.0</td>\n",
       "      <td>0.000019</td>\n",
       "      <td>-4.760800</td>\n",
       "      <td>2.466980</td>\n",
       "      <td>0.001469</td>\n",
       "      <td>7.919679e+18</td>\n",
       "      <td>2384066.0</td>\n",
       "      <td>56564.0</td>\n",
       "      <td>7034.0</td>\n",
       "      <td>360.0</td>\n",
       "      <td>...</td>\n",
       "      <td>NaN</td>\n",
       "      <td>NaN</td>\n",
       "      <td>NaN</td>\n",
       "      <td>NaN</td>\n",
       "      <td>NaN</td>\n",
       "      <td>NaN</td>\n",
       "      <td>NaN</td>\n",
       "      <td>NaN</td>\n",
       "      <td>NaN</td>\n",
       "      <td>NaN</td>\n",
       "    </tr>\n",
       "    <tr>\n",
       "      <th>1</th>\n",
       "      <td>1.0</td>\n",
       "      <td>0.000091</td>\n",
       "      <td>24.902252</td>\n",
       "      <td>0.555913</td>\n",
       "      <td>0.000247</td>\n",
       "      <td>7.333218e+18</td>\n",
       "      <td>2133113.0</td>\n",
       "      <td>56543.0</td>\n",
       "      <td>6513.0</td>\n",
       "      <td>843.0</td>\n",
       "      <td>...</td>\n",
       "      <td>NaN</td>\n",
       "      <td>NaN</td>\n",
       "      <td>NaN</td>\n",
       "      <td>NaN</td>\n",
       "      <td>NaN</td>\n",
       "      <td>NaN</td>\n",
       "      <td>NaN</td>\n",
       "      <td>NaN</td>\n",
       "      <td>NaN</td>\n",
       "      <td>NaN</td>\n",
       "    </tr>\n",
       "    <tr>\n",
       "      <th>2</th>\n",
       "      <td>2.0</td>\n",
       "      <td>0.000346</td>\n",
       "      <td>-6.491940</td>\n",
       "      <td>0.514150</td>\n",
       "      <td>0.000124</td>\n",
       "      <td>8.047035e+18</td>\n",
       "      <td>2467493.0</td>\n",
       "      <td>56574.0</td>\n",
       "      <td>7147.0</td>\n",
       "      <td>831.0</td>\n",
       "      <td>...</td>\n",
       "      <td>NaN</td>\n",
       "      <td>NaN</td>\n",
       "      <td>NaN</td>\n",
       "      <td>NaN</td>\n",
       "      <td>NaN</td>\n",
       "      <td>NaN</td>\n",
       "      <td>NaN</td>\n",
       "      <td>NaN</td>\n",
       "      <td>NaN</td>\n",
       "      <td>NaN</td>\n",
       "    </tr>\n",
       "    <tr>\n",
       "      <th>3</th>\n",
       "      <td>3.0</td>\n",
       "      <td>0.000463</td>\n",
       "      <td>10.241074</td>\n",
       "      <td>0.654366</td>\n",
       "      <td>0.000156</td>\n",
       "      <td>6.960408e+18</td>\n",
       "      <td>1918240.0</td>\n",
       "      <td>56190.0</td>\n",
       "      <td>6182.0</td>\n",
       "      <td>346.0</td>\n",
       "      <td>...</td>\n",
       "      <td>NaN</td>\n",
       "      <td>NaN</td>\n",
       "      <td>NaN</td>\n",
       "      <td>NaN</td>\n",
       "      <td>NaN</td>\n",
       "      <td>NaN</td>\n",
       "      <td>NaN</td>\n",
       "      <td>NaN</td>\n",
       "      <td>NaN</td>\n",
       "      <td>NaN</td>\n",
       "    </tr>\n",
       "    <tr>\n",
       "      <th>4</th>\n",
       "      <td>4.0</td>\n",
       "      <td>0.000559</td>\n",
       "      <td>34.985602</td>\n",
       "      <td>0.146332</td>\n",
       "      <td>0.000021</td>\n",
       "      <td>8.044630e+18</td>\n",
       "      <td>2464948.0</td>\n",
       "      <td>56567.0</td>\n",
       "      <td>7145.0</td>\n",
       "      <td>274.0</td>\n",
       "      <td>...</td>\n",
       "      <td>0.012727</td>\n",
       "      <td>NaN</td>\n",
       "      <td>NaN</td>\n",
       "      <td>NaN</td>\n",
       "      <td>NaN</td>\n",
       "      <td>NaN</td>\n",
       "      <td>NaN</td>\n",
       "      <td>NaN</td>\n",
       "      <td>NaN</td>\n",
       "      <td>NaN</td>\n",
       "    </tr>\n",
       "  </tbody>\n",
       "</table>\n",
       "<p>5 rows × 89 columns</p>\n",
       "</div>"
      ],
      "text/plain": [
       "   Unnamed: 0        ra        dec    z_sdss  zErr_sdss  specObjID_sdss  \\\n",
       "0         0.0  0.000019  -4.760800  2.466980   0.001469    7.919679e+18   \n",
       "1         1.0  0.000091  24.902252  0.555913   0.000247    7.333218e+18   \n",
       "2         2.0  0.000346  -6.491940  0.514150   0.000124    8.047035e+18   \n",
       "3         3.0  0.000463  10.241074  0.654366   0.000156    6.960408e+18   \n",
       "4         4.0  0.000559  34.985602  0.146332   0.000021    8.044630e+18   \n",
       "\n",
       "   bossSpecObjID_sdss  mjd_sdss  plate_sdss  fiberID_sdss  ...  \\\n",
       "0           2384066.0   56564.0      7034.0         360.0  ...   \n",
       "1           2133113.0   56543.0      6513.0         843.0  ...   \n",
       "2           2467493.0   56574.0      7147.0         831.0  ...   \n",
       "3           1918240.0   56190.0      6182.0         346.0  ...   \n",
       "4           2464948.0   56567.0      7145.0         274.0  ...   \n",
       "\n",
       "   kcorr_kronmag_z_panstarrs  kcorr_integmag_g_legacy  \\\n",
       "0                        NaN                      NaN   \n",
       "1                        NaN                      NaN   \n",
       "2                        NaN                      NaN   \n",
       "3                        NaN                      NaN   \n",
       "4                   0.012727                      NaN   \n",
       "\n",
       "   kcorr_integmag_r_legacy  kcorr_integmag_z_legacy  kcorr_aper2mag_g_legacy  \\\n",
       "0                      NaN                      NaN                      NaN   \n",
       "1                      NaN                      NaN                      NaN   \n",
       "2                      NaN                      NaN                      NaN   \n",
       "3                      NaN                      NaN                      NaN   \n",
       "4                      NaN                      NaN                      NaN   \n",
       "\n",
       "   kcorr_aper2mag_r_legacy  kcorr_aper3mag_g_legacy  kcorr_aper3mag_r_legacy  \\\n",
       "0                      NaN                      NaN                      NaN   \n",
       "1                      NaN                      NaN                      NaN   \n",
       "2                      NaN                      NaN                      NaN   \n",
       "3                      NaN                      NaN                      NaN   \n",
       "4                      NaN                      NaN                      NaN   \n",
       "\n",
       "   kcorr_aper6mag_g_legacy  kcorr_aper6mag_r_legacy  \n",
       "0                      NaN                      NaN  \n",
       "1                      NaN                      NaN  \n",
       "2                      NaN                      NaN  \n",
       "3                      NaN                      NaN  \n",
       "4                      NaN                      NaN  \n",
       "\n",
       "[5 rows x 89 columns]"
      ]
     },
     "execution_count": 39,
     "metadata": {},
     "output_type": "execute_result"
    }
   ],
   "source": [
    "DATA.head()"
   ]
  },
  {
   "cell_type": "code",
   "execution_count": 38,
   "metadata": {},
   "outputs": [],
   "source": [
    "Z = DATA['z_sdss']"
   ]
  },
  {
   "cell_type": "code",
   "execution_count": 39,
   "metadata": {},
   "outputs": [],
   "source": [
    "imputer = SimpleImputer(missing_values=np.nan, strategy='median')\n",
    "x = imputer.fit_transform(DATA[col_name_corr])"
   ]
  },
  {
   "cell_type": "code",
   "execution_count": 40,
   "metadata": {},
   "outputs": [
    {
     "data": {
      "text/plain": [
       "(4109726, 43)"
      ]
     },
     "execution_count": 40,
     "metadata": {},
     "output_type": "execute_result"
    }
   ],
   "source": [
    "x.shape"
   ]
  },
  {
   "cell_type": "code",
   "execution_count": 41,
   "metadata": {},
   "outputs": [],
   "source": [
    "# DATA.columns"
   ]
  },
  {
   "cell_type": "code",
   "execution_count": 42,
   "metadata": {},
   "outputs": [],
   "source": [
    "size = x.shape[0]\n",
    "\n",
    "full_sdss_indx = list(Z[~Z.isna()].index)\n",
    "\n",
    "X = x[full_sdss_indx,:]\n",
    "Y = Z[full_sdss_indx].to_numpy()"
   ]
  },
  {
   "cell_type": "code",
   "execution_count": 43,
   "metadata": {},
   "outputs": [
    {
     "data": {
      "text/plain": [
       "(3154894, 43)"
      ]
     },
     "execution_count": 43,
     "metadata": {},
     "output_type": "execute_result"
    }
   ],
   "source": [
    "X.shape"
   ]
  },
  {
   "cell_type": "code",
   "execution_count": 44,
   "metadata": {},
   "outputs": [],
   "source": [
    "from sklearn.preprocessing import StandardScaler\n",
    "X_scaled = StandardScaler().fit_transform(X)\n",
    "\n",
    "train_X, val_X, train_y, val_y = train_test_split(X_scaled,Y, test_size = 0.3, random_state = 14)"
   ]
  },
  {
   "cell_type": "code",
   "execution_count": 45,
   "metadata": {},
   "outputs": [
    {
     "name": "stderr",
     "output_type": "stream",
     "text": [
      "COMET INFO: Experiment is live on comet.ml https://www.comet.ml/azarodnyuk/galaxy/f5f6e50f2c6f4574a70c81c83f832385\n",
      "\n"
     ]
    }
   ],
   "source": [
    "# Create an experiment\n",
    "# api_key could be found on https://www.comet.ml\n",
    "experiment = Experiment(api_key='SoHcPReamhyjhD2j2S44j4KIJ',\n",
    "                        project_name=\"galaxy\", workspace='azarodnyuk')"
   ]
  },
  {
   "cell_type": "code",
   "execution_count": 46,
   "metadata": {},
   "outputs": [
    {
     "name": "stdout",
     "output_type": "stream",
     "text": [
      "Model: \"sequential\"\n",
      "_________________________________________________________________\n",
      "Layer (type)                 Output Shape              Param #   \n",
      "=================================================================\n",
      "dense (Dense)                (None, 43)                1892      \n",
      "_________________________________________________________________\n",
      "dense_1 (Dense)              (None, 21)                924       \n",
      "_________________________________________________________________\n",
      "dense_2 (Dense)              (None, 10)                220       \n",
      "_________________________________________________________________\n",
      "dense_3 (Dense)              (None, 5)                 55        \n",
      "_________________________________________________________________\n",
      "dense_4 (Dense)              (None, 1)                 6         \n",
      "=================================================================\n",
      "Total params: 3,097\n",
      "Trainable params: 3,097\n",
      "Non-trainable params: 0\n",
      "_________________________________________________________________\n"
     ]
    }
   ],
   "source": [
    "NN_model = Sequential()\n",
    "\n",
    "# The Input Layer :\n",
    "NN_model.add(Dense(int(train_X.shape[1]), kernel_initializer='normal',input_dim = train_X.shape[1], activation='relu'))\n",
    "\n",
    "# The Hidden Layers :\n",
    "NN_model.add(Dense(int(train_X.shape[1]/2), kernel_initializer='normal',activation='relu'))\n",
    "NN_model.add(Dense(int(train_X.shape[1]/4), kernel_initializer='normal',activation='relu'))\n",
    "NN_model.add(Dense(int(train_X.shape[1]/8), kernel_initializer='normal',activation='relu'))\n",
    "# NN_model.add(Dense(int(train_X.shape[1]/16), kernel_initializer='normal',activation='relu'))\n",
    "\n",
    "# The Output Layer :\n",
    "NN_model.add(Dense(1, kernel_initializer='normal',activation='linear'))\n",
    "\n",
    "# Compile the network :\n",
    "NN_model.compile(loss='mean_absolute_error', optimizer='adam', metrics=['mean_absolute_error']) #'mean_absolute_error'\n",
    "NN_model.summary()"
   ]
  },
  {
   "cell_type": "code",
   "execution_count": 47,
   "metadata": {},
   "outputs": [],
   "source": [
    "checkpoint_name = 'Weights-{epoch:03d}--{val_loss:.5f}.hdf5' \n",
    "checkpoint = ModelCheckpoint(checkpoint_name, monitor='val_loss', verbose = 1, save_best_only = True, mode ='auto')\n",
    "callbacks_list = [checkpoint]"
   ]
  },
  {
   "cell_type": "code",
   "execution_count": 48,
   "metadata": {},
   "outputs": [
    {
     "name": "stderr",
     "output_type": "stream",
     "text": [
      "COMET INFO: Ignoring automatic log_parameter('verbose') because 'keras:verbose' is in COMET_LOGGING_PARAMETERS_IGNORE\n"
     ]
    },
    {
     "name": "stdout",
     "output_type": "stream",
     "text": [
      "Epoch 1/15\n",
      "17653/17668 [============================>.] - ETA: 0s - loss: 0.0096 - mean_absolute_error: 0.0096\n",
      "Epoch 00001: val_loss improved from inf to 0.00717, saving model to Weights-001--0.00717.hdf5\n",
      "17668/17668 [==============================] - 52s 3ms/step - loss: 0.0096 - mean_absolute_error: 0.0096 - val_loss: 0.0072 - val_mean_absolute_error: 0.0072\n",
      "Epoch 2/15\n",
      "17664/17668 [============================>.] - ETA: 0s - loss: 0.0038 - mean_absolute_error: 0.0038\n",
      "Epoch 00002: val_loss improved from 0.00717 to 0.00488, saving model to Weights-002--0.00488.hdf5\n",
      "17668/17668 [==============================] - 53s 3ms/step - loss: 0.0038 - mean_absolute_error: 0.0038 - val_loss: 0.0049 - val_mean_absolute_error: 0.0049\n",
      "Epoch 3/15\n",
      "17658/17668 [============================>.] - ETA: 0s - loss: 0.0034 - mean_absolute_error: 0.0034\n",
      "Epoch 00003: val_loss improved from 0.00488 to 0.00336, saving model to Weights-003--0.00336.hdf5\n",
      "17668/17668 [==============================] - 54s 3ms/step - loss: 0.0034 - mean_absolute_error: 0.0034 - val_loss: 0.0034 - val_mean_absolute_error: 0.0034\n",
      "Epoch 4/15\n",
      "17655/17668 [============================>.] - ETA: 0s - loss: 0.0032 - mean_absolute_error: 0.0032\n",
      "Epoch 00004: val_loss improved from 0.00336 to 0.00263, saving model to Weights-004--0.00263.hdf5\n",
      "17668/17668 [==============================] - 48s 3ms/step - loss: 0.0032 - mean_absolute_error: 0.0032 - val_loss: 0.0026 - val_mean_absolute_error: 0.0026\n",
      "Epoch 5/15\n",
      "17657/17668 [============================>.] - ETA: 0s - loss: 0.0030 - mean_absolute_error: 0.0030\n",
      "Epoch 00005: val_loss improved from 0.00263 to 0.00262, saving model to Weights-005--0.00262.hdf5\n",
      "17668/17668 [==============================] - 44s 3ms/step - loss: 0.0030 - mean_absolute_error: 0.0030 - val_loss: 0.0026 - val_mean_absolute_error: 0.0026\n",
      "Epoch 6/15\n",
      "17655/17668 [============================>.] - ETA: 0s - loss: 0.0029 - mean_absolute_error: 0.0029\n",
      "Epoch 00006: val_loss did not improve from 0.00262\n",
      "17668/17668 [==============================] - 51s 3ms/step - loss: 0.0029 - mean_absolute_error: 0.0029 - val_loss: 0.0043 - val_mean_absolute_error: 0.0043\n",
      "Epoch 7/15\n",
      "17651/17668 [============================>.] - ETA: 0s - loss: 0.0029 - mean_absolute_error: 0.0029\n",
      "Epoch 00007: val_loss did not improve from 0.00262\n",
      "17668/17668 [==============================] - 52s 3ms/step - loss: 0.0029 - mean_absolute_error: 0.0029 - val_loss: 0.0029 - val_mean_absolute_error: 0.0029\n",
      "Epoch 8/15\n",
      "17664/17668 [============================>.] - ETA: 0s - loss: 0.0028 - mean_absolute_error: 0.0028\n",
      "Epoch 00008: val_loss did not improve from 0.00262\n",
      "17668/17668 [==============================] - 52s 3ms/step - loss: 0.0028 - mean_absolute_error: 0.0028 - val_loss: 0.0033 - val_mean_absolute_error: 0.0033\n",
      "Epoch 9/15\n",
      "17656/17668 [============================>.] - ETA: 0s - loss: 0.0027 - mean_absolute_error: 0.0027\n",
      "Epoch 00009: val_loss did not improve from 0.00262\n",
      "17668/17668 [==============================] - 54s 3ms/step - loss: 0.0027 - mean_absolute_error: 0.0027 - val_loss: 0.0073 - val_mean_absolute_error: 0.0073\n",
      "Epoch 10/15\n",
      "17644/17668 [============================>.] - ETA: 0s - loss: 0.0027 - mean_absolute_error: 0.0027\n",
      "Epoch 00010: val_loss improved from 0.00262 to 0.00165, saving model to Weights-010--0.00165.hdf5\n",
      "17668/17668 [==============================] - 48s 3ms/step - loss: 0.0027 - mean_absolute_error: 0.0027 - val_loss: 0.0016 - val_mean_absolute_error: 0.0016\n",
      "Epoch 11/15\n",
      "17661/17668 [============================>.] - ETA: 0s - loss: 0.0026 - mean_absolute_error: 0.0026\n",
      "Epoch 00011: val_loss improved from 0.00165 to 0.00161, saving model to Weights-011--0.00161.hdf5\n",
      "17668/17668 [==============================] - 52s 3ms/step - loss: 0.0026 - mean_absolute_error: 0.0026 - val_loss: 0.0016 - val_mean_absolute_error: 0.0016\n",
      "Epoch 12/15\n",
      "17660/17668 [============================>.] - ETA: 0s - loss: 0.0025 - mean_absolute_error: 0.0025\n",
      "Epoch 00012: val_loss did not improve from 0.00161\n",
      "17668/17668 [==============================] - 68s 4ms/step - loss: 0.0025 - mean_absolute_error: 0.0025 - val_loss: 0.0020 - val_mean_absolute_error: 0.0020\n",
      "Epoch 13/15\n",
      "17661/17668 [============================>.] - ETA: 0s - loss: 0.0026 - mean_absolute_error: 0.0026\n",
      "Epoch 00013: val_loss did not improve from 0.00161\n",
      "17668/17668 [==============================] - 67s 4ms/step - loss: 0.0026 - mean_absolute_error: 0.0026 - val_loss: 0.0029 - val_mean_absolute_error: 0.0029\n",
      "Epoch 14/15\n",
      "17652/17668 [============================>.] - ETA: 0s - loss: 0.0025 - mean_absolute_error: 0.0025\n",
      "Epoch 00014: val_loss did not improve from 0.00161\n",
      "17668/17668 [==============================] - 69s 4ms/step - loss: 0.0025 - mean_absolute_error: 0.0025 - val_loss: 0.0049 - val_mean_absolute_error: 0.0049\n",
      "Epoch 15/15\n",
      "17666/17668 [============================>.] - ETA: 0s - loss: 0.0023 - mean_absolute_error: 0.0023\n",
      "Epoch 00015: val_loss did not improve from 0.00161\n",
      "17668/17668 [==============================] - 66s 4ms/step - loss: 0.0023 - mean_absolute_error: 0.0023 - val_loss: 0.0018 - val_mean_absolute_error: 0.0018\n"
     ]
    },
    {
     "data": {
      "text/plain": [
       "<tensorflow.python.keras.callbacks.History at 0x7f80b42e7d90>"
      ]
     },
     "execution_count": 48,
     "metadata": {},
     "output_type": "execute_result"
    }
   ],
   "source": [
    "NN_model.fit(train_X, train_y, epochs=15, batch_size=100, validation_split = 0.2, callbacks=callbacks_list,\n",
    "             workers=20, use_multiprocessing=True)"
   ]
  },
  {
   "cell_type": "code",
   "execution_count": 49,
   "metadata": {},
   "outputs": [],
   "source": [
    "predictions = NN_model.predict(val_X)"
   ]
  },
  {
   "cell_type": "code",
   "execution_count": 50,
   "metadata": {},
   "outputs": [
    {
     "data": {
      "text/plain": [
       "0.9998425041764135"
      ]
     },
     "execution_count": 50,
     "metadata": {},
     "output_type": "execute_result"
    }
   ],
   "source": [
    "sklearn.metrics.r2_score(val_y, predictions)  #0.9998067818472489      0.6159740382704414"
   ]
  },
  {
   "cell_type": "markdown",
   "metadata": {},
   "source": [
    "### Reconstruct the redshift"
   ]
  },
  {
   "cell_type": "code",
   "execution_count": 53,
   "metadata": {},
   "outputs": [],
   "source": [
    "nan_z_indx = list(Z[Z.isna()].index)"
   ]
  },
  {
   "cell_type": "code",
   "execution_count": 54,
   "metadata": {},
   "outputs": [],
   "source": [
    "X_reconstruct = x[nan_z_indx,:]"
   ]
  },
  {
   "cell_type": "code",
   "execution_count": 55,
   "metadata": {},
   "outputs": [],
   "source": [
    "z_reconstructed = NN_model.predict(X_reconstruct)"
   ]
  },
  {
   "cell_type": "code",
   "execution_count": 68,
   "metadata": {},
   "outputs": [
    {
     "data": {
      "text/plain": [
       "array([3.0501912, 3.0645072, 3.0714037, ..., 2.49491  , 3.0487704,\n",
       "       2.4972386], dtype=float32)"
      ]
     },
     "execution_count": 68,
     "metadata": {},
     "output_type": "execute_result"
    }
   ],
   "source": [
    "z_reconstructed.flatten()"
   ]
  },
  {
   "cell_type": "code",
   "execution_count": 60,
   "metadata": {},
   "outputs": [
    {
     "data": {
      "text/plain": [
       "954832"
      ]
     },
     "execution_count": 60,
     "metadata": {},
     "output_type": "execute_result"
    }
   ],
   "source": [
    "len(nan_z_indx)"
   ]
  },
  {
   "cell_type": "code",
   "execution_count": 74,
   "metadata": {},
   "outputs": [],
   "source": [
    "Z[nan_z_indx] = z_reconstructed.flatten()"
   ]
  },
  {
   "cell_type": "code",
   "execution_count": 75,
   "metadata": {},
   "outputs": [
    {
     "data": {
      "text/plain": [
       "0"
      ]
     },
     "execution_count": 75,
     "metadata": {},
     "output_type": "execute_result"
    }
   ],
   "source": [
    "Z.isna().sum()"
   ]
  },
  {
   "cell_type": "code",
   "execution_count": 82,
   "metadata": {},
   "outputs": [],
   "source": [
    "Z.name = 'z_regres'"
   ]
  },
  {
   "cell_type": "code",
   "execution_count": 83,
   "metadata": {},
   "outputs": [],
   "source": [
    "Z.to_csv('z_reconstructed.csv', index = False)"
   ]
  },
  {
   "cell_type": "code",
   "execution_count": 84,
   "metadata": {},
   "outputs": [
    {
     "data": {
      "text/html": [
       "<div>\n",
       "<style scoped>\n",
       "    .dataframe tbody tr th:only-of-type {\n",
       "        vertical-align: middle;\n",
       "    }\n",
       "\n",
       "    .dataframe tbody tr th {\n",
       "        vertical-align: top;\n",
       "    }\n",
       "\n",
       "    .dataframe thead th {\n",
       "        text-align: right;\n",
       "    }\n",
       "</style>\n",
       "<table border=\"1\" class=\"dataframe\">\n",
       "  <thead>\n",
       "    <tr style=\"text-align: right;\">\n",
       "      <th></th>\n",
       "      <th>z_regres</th>\n",
       "    </tr>\n",
       "  </thead>\n",
       "  <tbody>\n",
       "    <tr>\n",
       "      <th>0</th>\n",
       "      <td>2.466980</td>\n",
       "    </tr>\n",
       "    <tr>\n",
       "      <th>1</th>\n",
       "      <td>0.555913</td>\n",
       "    </tr>\n",
       "    <tr>\n",
       "      <th>2</th>\n",
       "      <td>0.514150</td>\n",
       "    </tr>\n",
       "    <tr>\n",
       "      <th>3</th>\n",
       "      <td>0.654366</td>\n",
       "    </tr>\n",
       "    <tr>\n",
       "      <th>4</th>\n",
       "      <td>0.146332</td>\n",
       "    </tr>\n",
       "    <tr>\n",
       "      <th>...</th>\n",
       "      <td>...</td>\n",
       "    </tr>\n",
       "    <tr>\n",
       "      <th>4109721</th>\n",
       "      <td>3.049582</td>\n",
       "    </tr>\n",
       "    <tr>\n",
       "      <th>4109722</th>\n",
       "      <td>3.047023</td>\n",
       "    </tr>\n",
       "    <tr>\n",
       "      <th>4109723</th>\n",
       "      <td>2.494910</td>\n",
       "    </tr>\n",
       "    <tr>\n",
       "      <th>4109724</th>\n",
       "      <td>3.048770</td>\n",
       "    </tr>\n",
       "    <tr>\n",
       "      <th>4109725</th>\n",
       "      <td>2.497239</td>\n",
       "    </tr>\n",
       "  </tbody>\n",
       "</table>\n",
       "<p>4109726 rows × 1 columns</p>\n",
       "</div>"
      ],
      "text/plain": [
       "         z_regres\n",
       "0        2.466980\n",
       "1        0.555913\n",
       "2        0.514150\n",
       "3        0.654366\n",
       "4        0.146332\n",
       "...           ...\n",
       "4109721  3.049582\n",
       "4109722  3.047023\n",
       "4109723  2.494910\n",
       "4109724  3.048770\n",
       "4109725  2.497239\n",
       "\n",
       "[4109726 rows x 1 columns]"
      ]
     },
     "execution_count": 84,
     "metadata": {},
     "output_type": "execute_result"
    }
   ],
   "source": [
    "pd.read_csv('z_reconstructed.csv')"
   ]
  },
  {
   "cell_type": "code",
   "execution_count": null,
   "metadata": {},
   "outputs": [],
   "source": []
  }
 ],
 "metadata": {
  "kernelspec": {
   "display_name": "azar_env",
   "language": "python",
   "name": "azar_env"
  },
  "language_info": {
   "codemirror_mode": {
    "name": "ipython",
    "version": 3
   },
   "file_extension": ".py",
   "mimetype": "text/x-python",
   "name": "python",
   "nbconvert_exporter": "python",
   "pygments_lexer": "ipython3",
   "version": "3.7.7"
  }
 },
 "nbformat": 4,
 "nbformat_minor": 2
}
